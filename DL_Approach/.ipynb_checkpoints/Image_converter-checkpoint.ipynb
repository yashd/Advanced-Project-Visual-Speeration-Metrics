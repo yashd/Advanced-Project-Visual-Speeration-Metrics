{
 "cells": [
  {
   "cell_type": "code",
   "execution_count": 1,
   "metadata": {},
   "outputs": [],
   "source": [
    "import matplotlib.pyplot as plt\n",
    "from pdf2image import convert_from_path, convert_from_bytes\n",
    "import matplotlib.image as mpimg\n",
    "from pdf2image.exceptions import PDFInfoNotInstalledError,PDFPageCountError,PDFSyntaxError\n",
    "\n",
    "\n",
    "import os\n",
    "import cv2\n",
    "from PIL import Image\n",
    "\n",
    "\n",
    "\n",
    "plt.rcParams['figure.figsize'] = [12, 6]\n"
   ]
  },
  {
   "cell_type": "code",
   "execution_count": 7,
   "metadata": {},
   "outputs": [
    {
     "name": "stdout",
     "output_type": "stream",
     "text": [
      "completed transforming the images\n"
     ]
    }
   ],
   "source": [
    "for file in os.listdir('./data'):\n",
    "    \n",
    "    if '.pdf' in file:\n",
    "        try:\n",
    "            if file.split(\".\")[0]!=\"\":\n",
    "                images = convert_from_path('./data/'+file)\n",
    "                rgb_im = images[0].convert('RGB')\n",
    "                rgb_im.save('./images/'+file.split(\".\")[0]+'.jpg',\"JPEG\")\n",
    "        except PDFPageCountError:\n",
    "            print('An error occured trying to read the file. '+file)\n",
    "        \n",
    "        \n",
    "    \n",
    "print(\"completed transforming the images\");"
   ]
  },
  {
   "cell_type": "code",
   "execution_count": 8,
   "metadata": {},
   "outputs": [
    {
     "name": "stdout",
     "output_type": "stream",
     "text": [
      "Final dataset is prepared\n"
     ]
    }
   ],
   "source": [
    "x=150;y=150;\n",
    "h=2000;w=1500;\n",
    "\n",
    "for file in os.listdir('./images'):\n",
    "#     print('./images/'+file)\n",
    "    img = cv2.imread('./images/'+file)\n",
    "    \n",
    "    crop_img = img[y:-230, x:]\n",
    "    cv2.imwrite(\"./final_imgs/\"+file, crop_img)\n",
    "#     image = Image.open(\"./final_imgs/\"+file)\n",
    "#     image.show()\n",
    "    \n",
    "    \n",
    "print(\"Final dataset is prepared\");"
   ]
  },
  {
   "cell_type": "code",
   "execution_count": 11,
   "metadata": {},
   "outputs": [
    {
     "data": {
      "text/plain": [
       "['.jpg',\n",
       " 'Entangled1-3d-3cl-separate_GlimmerMDS_cls1.jpg',\n",
       " 'Entangled1-3d-3cl-separate_GlimmerMDS_cls2.jpg',\n",
       " 'Entangled1-3d-3cl-separate_GlimmerMDS_cls3.jpg',\n",
       " 'Entangled1-3d-3cl-separate_PCA_data_cls1.jpg',\n",
       " 'Entangled1-3d-3cl-separate_PCA_data_cls2.jpg',\n",
       " 'Entangled1-3d-3cl-separate_PCA_data_cls3.jpg',\n",
       " 'Entangled1-3d-3cl-separate_RobPCA_data_cls1.jpg',\n",
       " 'Entangled1-3d-3cl-separate_RobPCA_data_cls2.jpg',\n",
       " 'Entangled1-3d-3cl-separate_RobPCA_data_cls3.jpg',\n",
       " 'Entangled1-3d-3cl-separate_TSNE_cls1.jpg',\n",
       " 'Entangled1-3d-3cl-separate_TSNE_cls2.jpg',\n",
       " 'Entangled1-3d-3cl-separate_TSNE_cls3.jpg',\n",
       " 'Entangled1-3d-4cl-separate_GlimmerMDS_cls1.jpg',\n",
       " 'Entangled1-3d-4cl-separate_GlimmerMDS_cls2.jpg',\n",
       " 'Entangled1-3d-4cl-separate_GlimmerMDS_cls3.jpg',\n",
       " 'Entangled1-3d-4cl-separate_GlimmerMDS_cls4.jpg',\n",
       " 'Entangled1-3d-4cl-separate_PCA_data_cls1.jpg',\n",
       " 'Entangled1-3d-4cl-separate_PCA_data_cls2.jpg',\n",
       " 'Entangled1-3d-4cl-separate_PCA_data_cls3.jpg']"
      ]
     },
     "execution_count": 11,
     "metadata": {},
     "output_type": "execute_result"
    }
   ],
   "source": [
    "sorted(os.listdir('./final_imgs'))[:20]"
   ]
  },
  {
   "cell_type": "code",
   "execution_count": 10,
   "metadata": {},
   "outputs": [
    {
     "name": "stdout",
     "output_type": "stream",
     "text": [
      "829\n",
      "829\n"
     ]
    }
   ],
   "source": [
    "print(len(os.listdir('./final_imgs')))\n",
    "print(len(os.listdir('./data')))\n"
   ]
  },
  {
   "cell_type": "code",
   "execution_count": null,
   "metadata": {},
   "outputs": [],
   "source": []
  }
 ],
 "metadata": {
  "kernelspec": {
   "display_name": "Python 3",
   "language": "python",
   "name": "python3"
  },
  "language_info": {
   "codemirror_mode": {
    "name": "ipython",
    "version": 3
   },
   "file_extension": ".py",
   "mimetype": "text/x-python",
   "name": "python",
   "nbconvert_exporter": "python",
   "pygments_lexer": "ipython3",
   "version": "3.7.3"
  }
 },
 "nbformat": 4,
 "nbformat_minor": 2
}
