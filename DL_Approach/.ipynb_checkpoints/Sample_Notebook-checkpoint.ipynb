{
 "cells": [
  {
   "cell_type": "code",
   "execution_count": 1,
   "metadata": {},
   "outputs": [],
   "source": [
    "import pandas as pd\n",
    "import numpy as np\n",
    "import torch\n",
    "import os\n",
    "from torch.utils.data.dataset import Dataset\n",
    "from torch.utils.data import DataLoader\n",
    "from torchvision import transforms\n",
    "from torch import nn\n",
    "import torch.nn.functional as F\n",
    "import torch.optim as optim\n",
    "from torch.autograd import Variable\n",
    "from PIL import Image\n",
    "\n",
    "import warnings\n",
    "warnings.filterwarnings('ignore')"
   ]
  },
  {
   "cell_type": "code",
   "execution_count": 2,
   "metadata": {},
   "outputs": [
    {
     "data": {
      "text/plain": [
       "'/usr/local/opt/python/bin/python3.7'"
      ]
     },
     "execution_count": 2,
     "metadata": {},
     "output_type": "execute_result"
    }
   ],
   "source": [
    "import sys\n",
    "sys.executable"
   ]
  },
  {
   "cell_type": "code",
   "execution_count": 3,
   "metadata": {},
   "outputs": [
    {
     "data": {
      "text/plain": [
       "<torch._C.Generator at 0x116f811f0>"
      ]
     },
     "execution_count": 3,
     "metadata": {},
     "output_type": "execute_result"
    }
   ],
   "source": [
    "seed = 42\n",
    "np.random.seed(seed)\n",
    "torch.manual_seed(seed)"
   ]
  },
  {
   "cell_type": "code",
   "execution_count": 4,
   "metadata": {},
   "outputs": [],
   "source": [
    "df=pd.read_csv('RESULTS_EUROVIS2015.csv');\n",
    "AUC_scores=df.tail(1);\n",
    "\n",
    "main_df=df[:-1];\n",
    "var_names=['scoreDes','fileName','indexFile', 'indexDR', 'classNum', 'scoreA', 'scoreM'];\n",
    "\n",
    "main_df=main_df[var_names];\n",
    "fileName_vals=main_df['fileName'].values;\n",
    "class_vals=main_df['classNum'].values;\n",
    "\n",
    "\n",
    "new_file_name_values=[]\n",
    "\n",
    "for i in range(len(fileName_vals)):\n",
    "    new_file_name_values.append(fileName_vals[i].split(\".\")[0]+\"_cls\"+str(class_vals[i])+'.jpg')\n",
    "    \n",
    "main_df['mod_file_name']=new_file_name_values;\n",
    "\n",
    "\n",
    "mod_filename_values=main_df['mod_file_name'].values;\n",
    "\n",
    "\n",
    "count=0;\n",
    "# for val in mod_filename_values:\n",
    "#     if val not in os.listdir('./final_imgs'):\n",
    "#         count+=1;\n",
    "#         print(val);\n",
    "\n",
    "# print(count);"
   ]
  },
  {
   "cell_type": "code",
   "execution_count": 5,
   "metadata": {},
   "outputs": [
    {
     "name": "stdout",
     "output_type": "stream",
     "text": [
      "['Entangled1-3d-3cl-separate_PCA_data_cls1.jpg'\n",
      " 'Entangled1-3d-3cl-separate_PCA_data_cls2.jpg'\n",
      " 'Entangled1-3d-3cl-separate_PCA_data_cls3.jpg'\n",
      " 'Entangled1-3d-3cl-separate_RobPCA_data_cls1.jpg'\n",
      " 'Entangled1-3d-3cl-separate_RobPCA_data_cls2.jpg']\n"
     ]
    }
   ],
   "source": [
    "image_names=mod_filename_values;\n",
    "\n",
    "image_labels=[float(x) for x in main_df['scoreDes'].values];\n",
    "print(image_names[:5])\n"
   ]
  },
  {
   "cell_type": "code",
   "execution_count": 8,
   "metadata": {},
   "outputs": [],
   "source": [
    "class ScatterPlotsDataset(Dataset):\n",
    "    \"\"\"Scatter Plots dataset\"\"\"\n",
    "\n",
    "    def __init__(self, image_names,image_labels,img_path,img_ext, transform=None):\n",
    "        \"\"\"\n",
    "        Args:\n",
    "            csv_file (string): Path to the csv file with annotations.\n",
    "            root_dir (string): Directory with all the images.\n",
    "            transform (callable, optional): Optional transform to be applied\n",
    "                on a sample.\n",
    "        \"\"\"\n",
    "        \n",
    "        self.img_path = img_path\n",
    "        self.img_ext = img_ext\n",
    "        self.transform = transform\n",
    "\n",
    "        self.X_train = image_names\n",
    "        self.y_train = image_labels\n",
    "\n",
    "    def __len__(self):\n",
    "        return len(self.X_train)\n",
    "\n",
    "    def __getitem__(self, index):\n",
    "        img = Image.open(self.img_path + self.X_train[index])\n",
    "        img = img.convert('RGB')\n",
    "        if self.transform is not None:\n",
    "            img = self.transform(img)\n",
    "        \n",
    "        label = torch.Tensor(np.array([self.y_train[index]]))\n",
    "        return img, label\n",
    "    \n"
   ]
  },
  {
   "cell_type": "code",
   "execution_count": 9,
   "metadata": {},
   "outputs": [],
   "source": [
    "transformations = transforms.Compose([transforms.Scale(32),transforms.ToTensor()])\n",
    "\n",
    "dset = ScatterPlotsDataset(image_names,image_labels,'/Users/yashd/PycharmProjects/CSE523/DL_Approach/final_imgs/',\"\",transformations)\n",
    "train_loader = DataLoader(dset,batch_size=256,shuffle=True,num_workers=4)"
   ]
  },
  {
   "cell_type": "code",
   "execution_count": 10,
   "metadata": {},
   "outputs": [],
   "source": [
    "class Net(nn.Module):\n",
    "    def __init__(self):\n",
    "        super(Net, self).__init__()\n",
    "        self.conv1 = nn.Conv2d(3, 32, kernel_size=3)\n",
    "        self.conv2 = nn.Conv2d(32, 64, kernel_size=3)\n",
    "        self.conv2_drop = nn.Dropout2d()\n",
    "        self.fc1 = nn.Linear(2688, 256)\n",
    "        self.fc2 = nn.Linear(256, 16)\n",
    "        self.fc3 = nn.Linear(16, 1)\n",
    "        \n",
    "\n",
    "    def forward(self, x):\n",
    "        x = F.relu(F.max_pool2d(self.conv1(x), 2))\n",
    "        x = F.relu(F.max_pool2d(self.conv2_drop(self.conv2(x)), 2))\n",
    "        x = x.view(x.size(0), -1) # Flatten layer\n",
    "        x = F.relu(self.fc1(x))\n",
    "        x = F.dropout(x, training=self.training)\n",
    "        x = self.fc2(x)\n",
    "        x = self.fc3(x)\n",
    "        return F.sigmoid(x)\n",
    "\n",
    "model = Net() # On CPU\n",
    "# model = Net().cuda() # On GPU"
   ]
  },
  {
   "cell_type": "code",
   "execution_count": 11,
   "metadata": {},
   "outputs": [],
   "source": [
    "optimizer = optim.SGD(model.parameters(), lr=0.01, momentum=0.5)"
   ]
  },
  {
   "cell_type": "code",
   "execution_count": 12,
   "metadata": {},
   "outputs": [],
   "source": [
    "def train(epoch):\n",
    "    model.train()\n",
    "    for batch_idx, (data, target) in enumerate(train_loader):\n",
    "        # data, target = data.cuda(async=True), target.cuda(async=True) # On GPU\n",
    "        data, target = Variable(data), Variable(target)\n",
    "        optimizer.zero_grad()\n",
    "        output = model(data)\n",
    "        print(output[1],target[1])\n",
    "        loss = F.binary_cross_entropy(output, target)\n",
    "        loss.backward()\n",
    "        optimizer.step()\n",
    "        if batch_idx % 2 == 0:\n",
    "            print('Train Epoch: {} [{}/{} ({:.0f}%)]\\tLoss: {:.6f}'.format(\n",
    "                epoch, batch_idx * len(data), len(train_loader.dataset),\n",
    "                100. * batch_idx / len(train_loader), loss))"
   ]
  },
  {
   "cell_type": "code",
   "execution_count": 13,
   "metadata": {},
   "outputs": [
    {
     "name": "stdout",
     "output_type": "stream",
     "text": [
      "tensor([0.5003], grad_fn=<SelectBackward>)\n",
      "Train Epoch: 1 [0/828 (0%)]\tLoss: 0.693559\n",
      "tensor([0.4862], grad_fn=<SelectBackward>)\n",
      "tensor([0.4898], grad_fn=<SelectBackward>)\n",
      "Train Epoch: 1 [512/828 (50%)]\tLoss: 0.696005\n",
      "tensor([0.4789], grad_fn=<SelectBackward>)\n",
      "tensor([0.4927], grad_fn=<SelectBackward>)\n",
      "Train Epoch: 2 [0/828 (0%)]\tLoss: 0.692467\n",
      "tensor([0.4900], grad_fn=<SelectBackward>)\n",
      "tensor([0.4992], grad_fn=<SelectBackward>)\n",
      "Train Epoch: 2 [512/828 (50%)]\tLoss: 0.692904\n",
      "tensor([0.4898], grad_fn=<SelectBackward>)\n",
      "tensor([0.4890], grad_fn=<SelectBackward>)\n",
      "Train Epoch: 3 [0/828 (0%)]\tLoss: 0.694737\n",
      "tensor([0.5032], grad_fn=<SelectBackward>)\n",
      "tensor([0.4795], grad_fn=<SelectBackward>)\n",
      "Train Epoch: 3 [512/828 (50%)]\tLoss: 0.693993\n",
      "tensor([0.4857], grad_fn=<SelectBackward>)\n",
      "tensor([0.4947], grad_fn=<SelectBackward>)\n",
      "Train Epoch: 4 [0/828 (0%)]\tLoss: 0.693826\n",
      "tensor([0.4860], grad_fn=<SelectBackward>)\n",
      "tensor([0.4924], grad_fn=<SelectBackward>)\n",
      "Train Epoch: 4 [512/828 (50%)]\tLoss: 0.693896\n",
      "tensor([0.4905], grad_fn=<SelectBackward>)\n",
      "tensor([0.4863], grad_fn=<SelectBackward>)\n",
      "Train Epoch: 5 [0/828 (0%)]\tLoss: 0.693748\n",
      "tensor([0.4889], grad_fn=<SelectBackward>)\n",
      "tensor([0.4939], grad_fn=<SelectBackward>)\n",
      "Train Epoch: 5 [512/828 (50%)]\tLoss: 0.692699\n",
      "tensor([0.4937], grad_fn=<SelectBackward>)\n",
      "tensor([0.4941], grad_fn=<SelectBackward>)\n",
      "Train Epoch: 6 [0/828 (0%)]\tLoss: 0.693789\n",
      "tensor([0.4934], grad_fn=<SelectBackward>)\n",
      "tensor([0.4890], grad_fn=<SelectBackward>)\n",
      "Train Epoch: 6 [512/828 (50%)]\tLoss: 0.692448\n",
      "tensor([0.4929], grad_fn=<SelectBackward>)\n",
      "tensor([0.4974], grad_fn=<SelectBackward>)\n",
      "Train Epoch: 7 [0/828 (0%)]\tLoss: 0.693747\n",
      "tensor([0.4921], grad_fn=<SelectBackward>)\n",
      "tensor([0.4970], grad_fn=<SelectBackward>)\n",
      "Train Epoch: 7 [512/828 (50%)]\tLoss: 0.693969\n",
      "tensor([0.4955], grad_fn=<SelectBackward>)\n",
      "tensor([0.4895], grad_fn=<SelectBackward>)\n",
      "Train Epoch: 8 [0/828 (0%)]\tLoss: 0.692184\n",
      "tensor([0.4988], grad_fn=<SelectBackward>)\n",
      "tensor([0.4896], grad_fn=<SelectBackward>)\n",
      "Train Epoch: 8 [512/828 (50%)]\tLoss: 0.694331\n",
      "tensor([0.5052], grad_fn=<SelectBackward>)\n",
      "tensor([0.5057], grad_fn=<SelectBackward>)\n",
      "Train Epoch: 9 [0/828 (0%)]\tLoss: 0.694107\n",
      "tensor([0.5075], grad_fn=<SelectBackward>)\n",
      "tensor([0.4997], grad_fn=<SelectBackward>)\n",
      "Train Epoch: 9 [512/828 (50%)]\tLoss: 0.692917\n",
      "tensor([0.4994], grad_fn=<SelectBackward>)\n"
     ]
    }
   ],
   "source": [
    "for epoch in range(1, 10):\n",
    "    train(epoch)"
   ]
  }
 ],
 "metadata": {
  "kernelspec": {
   "display_name": "dl_523",
   "language": "python",
   "name": "dl_523"
  },
  "language_info": {
   "codemirror_mode": {
    "name": "ipython",
    "version": 3
   },
   "file_extension": ".py",
   "mimetype": "text/x-python",
   "name": "python",
   "nbconvert_exporter": "python",
   "pygments_lexer": "ipython3",
   "version": "3.7.3"
  }
 },
 "nbformat": 4,
 "nbformat_minor": 2
}
