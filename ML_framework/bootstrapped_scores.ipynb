{
 "cells": [
  {
   "cell_type": "markdown",
   "metadata": {},
   "source": [
    "The main aim of this notebook is to find the best model which can predict seperability of a given plot. And then calculate the AUC(Area Under Curve) scores for a bootstrapped sample for each seperation measure."
   ]
  },
  {
   "cell_type": "code",
   "execution_count": 1,
   "metadata": {},
   "outputs": [],
   "source": [
    "import numpy as np\n",
    "import pandas as pd\n",
    "from sklearn.preprocessing import StandardScaler\n",
    "from sklearn.metrics import accuracy_score \n",
    "from sklearn.utils import resample\n",
    "from sklearn.metrics import roc_curve,auc\n",
    "from sklearn.utils import resample\n",
    "\n",
    "from sklearn.linear_model import LogisticRegression\n",
    "from sklearn.ensemble import RandomForestClassifier\n",
    "from sklearn.neighbors import KNeighborsClassifier\n",
    "from sklearn.svm import SVC\n",
    "from sklearn.tree import DecisionTreeClassifier\n",
    "from sklearn.ensemble import AdaBoostClassifier\n",
    "\n",
    "import warnings\n",
    "warnings.filterwarnings('ignore')"
   ]
  },
  {
   "cell_type": "markdown",
   "metadata": {},
   "source": [
    "Read the CSV file and remove the last row from dataframe because the last row is the captured ACUBA scores for this dataset."
   ]
  },
  {
   "cell_type": "code",
   "execution_count": 2,
   "metadata": {},
   "outputs": [
    {
     "name": "stdout",
     "output_type": "stream",
     "text": [
      "Total number of rows in original dataframe:829\n",
      "Total number of rows in modified dataframe:828\n"
     ]
    }
   ],
   "source": [
    "df=pd.read_csv(\"RESULTS_EUROVIS2015.csv\");\n",
    "\n",
    "AUC_scores=df.tail(1);\n",
    "\n",
    "main_df=df[:-1];\n",
    "number_of_rows=main_df.shape[0];\n",
    "print(\"Total number of rows in original dataframe:\"+str(len(df.index)));\n",
    "print(\"Total number of rows in modified dataframe:\"+str(len(main_df.index)));\n"
   ]
  },
  {
   "cell_type": "code",
   "execution_count": 3,
   "metadata": {},
   "outputs": [
    {
     "data": {
      "text/html": [
       "<div>\n",
       "<style scoped>\n",
       "    .dataframe tbody tr th:only-of-type {\n",
       "        vertical-align: middle;\n",
       "    }\n",
       "\n",
       "    .dataframe tbody tr th {\n",
       "        vertical-align: top;\n",
       "    }\n",
       "\n",
       "    .dataframe thead th {\n",
       "        text-align: right;\n",
       "    }\n",
       "</style>\n",
       "<table border=\"1\" class=\"dataframe\">\n",
       "  <thead>\n",
       "    <tr style=\"text-align: right;\">\n",
       "      <th></th>\n",
       "      <th>indexFile</th>\n",
       "      <th>indexDR</th>\n",
       "      <th>classNum</th>\n",
       "      <th>scoreA</th>\n",
       "      <th>scoreM</th>\n",
       "      <th>scoreDes</th>\n",
       "      <th>DSC</th>\n",
       "      <th>CAL</th>\n",
       "      <th>HM</th>\n",
       "      <th>LDA</th>\n",
       "      <th>...</th>\n",
       "      <th>DC 20%</th>\n",
       "      <th>HDM 80</th>\n",
       "      <th>DC 2%</th>\n",
       "      <th>DUNN</th>\n",
       "      <th>DC 1%</th>\n",
       "      <th>DC 0.5%</th>\n",
       "      <th>CDM 1</th>\n",
       "      <th>DC 0.2%</th>\n",
       "      <th>DC 0.1%</th>\n",
       "      <th>AWTN</th>\n",
       "    </tr>\n",
       "  </thead>\n",
       "  <tbody>\n",
       "    <tr>\n",
       "      <th>count</th>\n",
       "      <td>828.000000</td>\n",
       "      <td>828.000000</td>\n",
       "      <td>828.00000</td>\n",
       "      <td>828.000000</td>\n",
       "      <td>828.000000</td>\n",
       "      <td>828.000000</td>\n",
       "      <td>828.000000</td>\n",
       "      <td>828.000000</td>\n",
       "      <td>828.000000</td>\n",
       "      <td>828.000000</td>\n",
       "      <td>...</td>\n",
       "      <td>828.000000</td>\n",
       "      <td>828.000000</td>\n",
       "      <td>828.000000</td>\n",
       "      <td>828.000000</td>\n",
       "      <td>828.000000</td>\n",
       "      <td>828.000000</td>\n",
       "      <td>828.000000</td>\n",
       "      <td>828.000000</td>\n",
       "      <td>828.000000</td>\n",
       "      <td>828.000000</td>\n",
       "    </tr>\n",
       "    <tr>\n",
       "      <th>mean</th>\n",
       "      <td>37.751208</td>\n",
       "      <td>2.450483</td>\n",
       "      <td>3.52657</td>\n",
       "      <td>2.979469</td>\n",
       "      <td>2.949275</td>\n",
       "      <td>0.507246</td>\n",
       "      <td>77.429402</td>\n",
       "      <td>80.298799</td>\n",
       "      <td>82.342098</td>\n",
       "      <td>0.594322</td>\n",
       "      <td>...</td>\n",
       "      <td>63.634851</td>\n",
       "      <td>98.403195</td>\n",
       "      <td>96.553164</td>\n",
       "      <td>0.027152</td>\n",
       "      <td>99.459394</td>\n",
       "      <td>99.935704</td>\n",
       "      <td>87.927730</td>\n",
       "      <td>99.996095</td>\n",
       "      <td>99.999158</td>\n",
       "      <td>270.766188</td>\n",
       "    </tr>\n",
       "    <tr>\n",
       "      <th>std</th>\n",
       "      <td>20.766822</td>\n",
       "      <td>1.115446</td>\n",
       "      <td>2.54403</td>\n",
       "      <td>1.631259</td>\n",
       "      <td>1.749717</td>\n",
       "      <td>0.500250</td>\n",
       "      <td>14.363301</td>\n",
       "      <td>118.300177</td>\n",
       "      <td>10.342507</td>\n",
       "      <td>1.481028</td>\n",
       "      <td>...</td>\n",
       "      <td>19.729777</td>\n",
       "      <td>3.748677</td>\n",
       "      <td>4.953790</td>\n",
       "      <td>0.059874</td>\n",
       "      <td>1.121827</td>\n",
       "      <td>0.185837</td>\n",
       "      <td>7.215781</td>\n",
       "      <td>0.019771</td>\n",
       "      <td>0.005084</td>\n",
       "      <td>78.268813</td>\n",
       "    </tr>\n",
       "    <tr>\n",
       "      <th>min</th>\n",
       "      <td>1.000000</td>\n",
       "      <td>1.000000</td>\n",
       "      <td>1.00000</td>\n",
       "      <td>0.000000</td>\n",
       "      <td>0.000000</td>\n",
       "      <td>0.000000</td>\n",
       "      <td>29.010239</td>\n",
       "      <td>0.007398</td>\n",
       "      <td>47.360794</td>\n",
       "      <td>0.000002</td>\n",
       "      <td>...</td>\n",
       "      <td>5.374185</td>\n",
       "      <td>53.901868</td>\n",
       "      <td>57.287289</td>\n",
       "      <td>0.000891</td>\n",
       "      <td>87.332331</td>\n",
       "      <td>97.799476</td>\n",
       "      <td>39.832298</td>\n",
       "      <td>99.711761</td>\n",
       "      <td>99.925354</td>\n",
       "      <td>38.993885</td>\n",
       "    </tr>\n",
       "    <tr>\n",
       "      <th>25%</th>\n",
       "      <td>16.000000</td>\n",
       "      <td>1.000000</td>\n",
       "      <td>2.00000</td>\n",
       "      <td>1.000000</td>\n",
       "      <td>1.000000</td>\n",
       "      <td>0.000000</td>\n",
       "      <td>66.650000</td>\n",
       "      <td>3.798646</td>\n",
       "      <td>75.515331</td>\n",
       "      <td>0.012565</td>\n",
       "      <td>...</td>\n",
       "      <td>52.270991</td>\n",
       "      <td>98.247322</td>\n",
       "      <td>95.165531</td>\n",
       "      <td>0.003489</td>\n",
       "      <td>99.374314</td>\n",
       "      <td>99.944297</td>\n",
       "      <td>84.619306</td>\n",
       "      <td>99.999112</td>\n",
       "      <td>100.000000</td>\n",
       "      <td>235.497898</td>\n",
       "    </tr>\n",
       "    <tr>\n",
       "      <th>50%</th>\n",
       "      <td>40.000000</td>\n",
       "      <td>3.000000</td>\n",
       "      <td>3.00000</td>\n",
       "      <td>3.000000</td>\n",
       "      <td>3.000000</td>\n",
       "      <td>1.000000</td>\n",
       "      <td>79.335260</td>\n",
       "      <td>24.730365</td>\n",
       "      <td>83.765962</td>\n",
       "      <td>0.091180</td>\n",
       "      <td>...</td>\n",
       "      <td>64.001399</td>\n",
       "      <td>100.000000</td>\n",
       "      <td>98.675758</td>\n",
       "      <td>0.007414</td>\n",
       "      <td>99.875350</td>\n",
       "      <td>99.992992</td>\n",
       "      <td>89.100684</td>\n",
       "      <td>100.000000</td>\n",
       "      <td>100.000000</td>\n",
       "      <td>286.045767</td>\n",
       "    </tr>\n",
       "    <tr>\n",
       "      <th>75%</th>\n",
       "      <td>55.000000</td>\n",
       "      <td>3.000000</td>\n",
       "      <td>5.00000</td>\n",
       "      <td>5.000000</td>\n",
       "      <td>5.000000</td>\n",
       "      <td>1.000000</td>\n",
       "      <td>89.450000</td>\n",
       "      <td>113.261177</td>\n",
       "      <td>90.789427</td>\n",
       "      <td>0.533361</td>\n",
       "      <td>...</td>\n",
       "      <td>76.557142</td>\n",
       "      <td>100.000000</td>\n",
       "      <td>99.852436</td>\n",
       "      <td>0.026669</td>\n",
       "      <td>100.000000</td>\n",
       "      <td>100.000000</td>\n",
       "      <td>92.874167</td>\n",
       "      <td>100.000000</td>\n",
       "      <td>100.000000</td>\n",
       "      <td>324.972774</td>\n",
       "    </tr>\n",
       "    <tr>\n",
       "      <th>max</th>\n",
       "      <td>70.000000</td>\n",
       "      <td>4.000000</td>\n",
       "      <td>13.00000</td>\n",
       "      <td>5.000000</td>\n",
       "      <td>5.000000</td>\n",
       "      <td>1.000000</td>\n",
       "      <td>100.000000</td>\n",
       "      <td>1038.602336</td>\n",
       "      <td>99.005716</td>\n",
       "      <td>25.837629</td>\n",
       "      <td>...</td>\n",
       "      <td>100.000000</td>\n",
       "      <td>100.000000</td>\n",
       "      <td>100.000000</td>\n",
       "      <td>0.707247</td>\n",
       "      <td>100.000000</td>\n",
       "      <td>100.000000</td>\n",
       "      <td>99.310559</td>\n",
       "      <td>100.000000</td>\n",
       "      <td>100.000000</td>\n",
       "      <td>457.396744</td>\n",
       "    </tr>\n",
       "  </tbody>\n",
       "</table>\n",
       "<p>8 rows × 41 columns</p>\n",
       "</div>"
      ],
      "text/plain": [
       "        indexFile     indexDR   classNum      scoreA      scoreM    scoreDes  \\\n",
       "count  828.000000  828.000000  828.00000  828.000000  828.000000  828.000000   \n",
       "mean    37.751208    2.450483    3.52657    2.979469    2.949275    0.507246   \n",
       "std     20.766822    1.115446    2.54403    1.631259    1.749717    0.500250   \n",
       "min      1.000000    1.000000    1.00000    0.000000    0.000000    0.000000   \n",
       "25%     16.000000    1.000000    2.00000    1.000000    1.000000    0.000000   \n",
       "50%     40.000000    3.000000    3.00000    3.000000    3.000000    1.000000   \n",
       "75%     55.000000    3.000000    5.00000    5.000000    5.000000    1.000000   \n",
       "max     70.000000    4.000000   13.00000    5.000000    5.000000    1.000000   \n",
       "\n",
       "              DSC          CAL          HM         LDA  ...      DC 20%  \\\n",
       "count  828.000000   828.000000  828.000000  828.000000  ...  828.000000   \n",
       "mean    77.429402    80.298799   82.342098    0.594322  ...   63.634851   \n",
       "std     14.363301   118.300177   10.342507    1.481028  ...   19.729777   \n",
       "min     29.010239     0.007398   47.360794    0.000002  ...    5.374185   \n",
       "25%     66.650000     3.798646   75.515331    0.012565  ...   52.270991   \n",
       "50%     79.335260    24.730365   83.765962    0.091180  ...   64.001399   \n",
       "75%     89.450000   113.261177   90.789427    0.533361  ...   76.557142   \n",
       "max    100.000000  1038.602336   99.005716   25.837629  ...  100.000000   \n",
       "\n",
       "           HDM 80       DC 2%        DUNN       DC 1%     DC 0.5%       CDM 1  \\\n",
       "count  828.000000  828.000000  828.000000  828.000000  828.000000  828.000000   \n",
       "mean    98.403195   96.553164    0.027152   99.459394   99.935704   87.927730   \n",
       "std      3.748677    4.953790    0.059874    1.121827    0.185837    7.215781   \n",
       "min     53.901868   57.287289    0.000891   87.332331   97.799476   39.832298   \n",
       "25%     98.247322   95.165531    0.003489   99.374314   99.944297   84.619306   \n",
       "50%    100.000000   98.675758    0.007414   99.875350   99.992992   89.100684   \n",
       "75%    100.000000   99.852436    0.026669  100.000000  100.000000   92.874167   \n",
       "max    100.000000  100.000000    0.707247  100.000000  100.000000   99.310559   \n",
       "\n",
       "          DC 0.2%     DC 0.1%        AWTN  \n",
       "count  828.000000  828.000000  828.000000  \n",
       "mean    99.996095   99.999158  270.766188  \n",
       "std      0.019771    0.005084   78.268813  \n",
       "min     99.711761   99.925354   38.993885  \n",
       "25%     99.999112  100.000000  235.497898  \n",
       "50%    100.000000  100.000000  286.045767  \n",
       "75%    100.000000  100.000000  324.972774  \n",
       "max    100.000000  100.000000  457.396744  \n",
       "\n",
       "[8 rows x 41 columns]"
      ]
     },
     "execution_count": 3,
     "metadata": {},
     "output_type": "execute_result"
    }
   ],
   "source": [
    "main_df.describe()"
   ]
  },
  {
   "cell_type": "code",
   "execution_count": 4,
   "metadata": {},
   "outputs": [
    {
     "data": {
      "text/plain": [
       "Index(['fileName', 'indexFile', 'indexDR', 'classNum', 'scoreA', 'scoreM',\n",
       "       'scoreDes', 'DSC', 'CAL', 'HM', 'LDA', 'WII', 'SIL', 'GAM', 'ABW', 'CS',\n",
       "       'HDM 10', 'ABTN', 'HDM 5', 'CDM 4', 'CDM 3', 'DC 10%', 'CDM 5', 'CDM 2',\n",
       "       'CDM 6', 'CDM 7', 'DC 5%', 'CDM 8', 'CDM 10', 'CDM 9', 'HDM 20',\n",
       "       'HDM 40', 'DC 20%', 'HDM 80', 'DC 2%', 'DUNN', 'DC 1%', 'DC 0.5%',\n",
       "       'CDM 1', 'DC 0.2%', 'DC 0.1%', 'AWTN'],\n",
       "      dtype='object')"
      ]
     },
     "execution_count": 4,
     "metadata": {},
     "output_type": "execute_result"
    }
   ],
   "source": [
    "main_df.columns"
   ]
  },
  {
   "cell_type": "code",
   "execution_count": 5,
   "metadata": {},
   "outputs": [],
   "source": [
    "#rerranging the columms in the order given in the paper.\n",
    "target_var='scoreDes'\n",
    "file_descriptors=['fileName', 'indexFile', 'indexDR', 'classNum', 'scoreA', 'scoreM']+[target_var]\n",
    "\n",
    "\n",
    "measure_cols=['ABTN','AWTN','ABW','WII','CAL','LDA','DUNN','GAM','SIL','HM','CS','DSC',\n",
    "            'CDM 1','CDM 2','CDM 3','CDM 4','CDM 5', 'CDM 6', 'CDM 7', 'CDM 8', 'CDM 9', 'CDM 10',\n",
    "           'DC 0.1%','DC 0.2%','DC 0.5%','DC 1%','DC 2%','DC 5%','DC 10%','DC 20%',\n",
    "           'HDM 5','HDM 10','HDM 20','HDM 40','HDM 80']\n",
    "\n",
    "new_cols=file_descriptors+measure_cols;\n",
    "\n",
    "X_cols=measure_cols;\n",
    "Y_cols=target_var;\n",
    "\n",
    "X=main_df[X_cols];\n",
    "Y=main_df[target_var];\n",
    "\n",
    "bootstrap_sample_size=10000"
   ]
  },
  {
   "cell_type": "code",
   "execution_count": 6,
   "metadata": {},
   "outputs": [
    {
     "name": "stdout",
     "output_type": "stream",
     "text": [
      "[0.75796  0.524822 0.77543  0.802286 0.812012 0.807314 0.632263 0.791216\n",
      " 0.798531 0.811283 0.767223 0.825445 0.617904 0.73181  0.754523 0.755598\n",
      " 0.736352 0.725799 0.719329 0.711536 0.710013 0.711477 0.563681 0.604139\n",
      " 0.621176 0.625403 0.640985 0.71753  0.748782 0.655484 0.755787 0.763379\n",
      " 0.707406 0.69294  0.655272]\n"
     ]
    }
   ],
   "source": [
    "mod_auc_scores=AUC_scores[X_cols];\n",
    "actual_auc_scores=mod_auc_scores.values[0]\n",
    "print(actual_auc_scores)"
   ]
  },
  {
   "cell_type": "code",
   "execution_count": 7,
   "metadata": {},
   "outputs": [],
   "source": [
    "#preprocessing \n",
    "\n",
    "scaler = StandardScaler().fit(X) \n",
    "X = scaler.transform(X) \n",
    "X=np.hstack((np.ones((X.shape[0], 1)), X))"
   ]
  },
  {
   "cell_type": "code",
   "execution_count": 8,
   "metadata": {},
   "outputs": [
    {
     "name": "stdout",
     "output_type": "stream",
     "text": [
      "(0.9033078880407125, 0.8333333333333334)\n",
      "(0.9949109414758269, 0.7857142857142857)\n"
     ]
    }
   ],
   "source": [
    "from sklearn.model_selection import train_test_split\n",
    "X_train, X_test, Y_train, Y_test = train_test_split(X,Y, test_size=0.05)\n",
    "\n",
    "def get_train_test_accuracy(model):\n",
    "    #model = LogisticRegression()\n",
    "    model.fit(X_train, Y_train)\n",
    "    predicted_classes = model.predict(X_train)\n",
    "    train_accuracy = accuracy_score(Y_train,predicted_classes)\n",
    "    predicted_classes = model.predict(X_test)\n",
    "    test_accuracy = accuracy_score(Y_test,predicted_classes)\n",
    "    return train_accuracy,test_accuracy\n",
    "\n",
    "print(get_train_test_accuracy(LogisticRegression()))\n",
    "print(get_train_test_accuracy(RandomForestClassifier()))\n"
   ]
  },
  {
   "cell_type": "code",
   "execution_count": 9,
   "metadata": {},
   "outputs": [],
   "source": [
    "model_map={}\n",
    "model_map[1]=LogisticRegression();\n",
    "model_map[2]=RandomForestClassifier(n_estimators=4, max_depth=2, random_state=0)\n",
    "model_map[3]=DecisionTreeClassifier(random_state=0)\n",
    "model_map[4]=SVC(gamma='auto')\n",
    "model_map[5]=KNeighborsClassifier(n_neighbors=3)\n",
    "model_map[6]=AdaBoostClassifier(n_estimators=4,learning_rate=1,random_state=0)\n",
    "\n",
    "\n",
    "def get_model_object(index):\n",
    "    return model_map.get(index);"
   ]
  },
  {
   "cell_type": "code",
   "execution_count": 10,
   "metadata": {},
   "outputs": [],
   "source": [
    "#this method calculates the AUC scores for each feature in the dataset.\n",
    "def get_auc_scores(main_df,model_index):\n",
    "    #input: dataset, model\n",
    "    #output: List of AUC scores\n",
    "    X_cols=measure_cols;\n",
    "    Y_cols=target_var;\n",
    "\n",
    "    X=main_df[X_cols];\n",
    "    Y=main_df[target_var];\n",
    "    \n",
    "    scaler = StandardScaler().fit(X) \n",
    "    X = scaler.transform(X) \n",
    "    X=np.hstack((np.ones((X.shape[0], 1)), X))\n",
    "    \n",
    "    X_train, X_test, Y_train, Y_test = train_test_split(X,Y, test_size=0.25)\n",
    "    model=model_map.get(model_index);\n",
    "    auc_vals=[]\n",
    "    for i in range(1,X_train.shape[1]):\n",
    "        model.fit(X_train[:,[i]],Y_train);\n",
    "        preds=model.predict(X_test[:,[i]]);\n",
    "        test_accuracy = accuracy_score(Y_test,preds);\n",
    "        fpr, tpr, thresholds = roc_curve(Y_test, preds)\n",
    "        auc_val=auc(fpr, tpr)\n",
    "        auc_vals.append(auc_val)\n",
    "    return auc_vals;\n",
    "\n",
    "\n",
    "def get_bootstrapped_auc_scores(main_df,model):\n",
    "    auc_scores=[]\n",
    "    for i in range(bootstrap_sample_size):\n",
    "        if i%5000==0:\n",
    "            print(\"Iteration :\"+str(i));\n",
    "        sample_df=resample(main_df, replace=False, n_samples=main_df.shape[0], random_state=1)\n",
    "        auc_scores.append(get_auc_scores(sample_df,model));\n",
    "    return auc_scores;\n",
    "    \n"
   ]
  },
  {
   "cell_type": "code",
   "execution_count": 11,
   "metadata": {},
   "outputs": [
    {
     "name": "stdout",
     "output_type": "stream",
     "text": [
      "Iteration :0\n",
      "Iteration :5000\n",
      "Calculated bootstrapped scores using Logistic Regression model\n",
      "   Measure  Expected  Calculated\n",
      "3      WII  0.802286    0.786161\n",
      "8      SIL  0.798531    0.774216\n",
      "9       HM  0.811283    0.769767\n",
      "7      GAM  0.791216    0.769689\n",
      "2      ABW  0.775430    0.764334\n",
      "11     DSC  0.825445    0.760671\n",
      "5      LDA  0.807314    0.742057\n",
      "4      CAL  0.812012    0.741475\n",
      "10      CS  0.767223    0.721144\n",
      "15   CDM 4  0.755598    0.720166\n"
     ]
    }
   ],
   "source": [
    "model_index=1\n",
    "auc_scores=get_bootstrapped_auc_scores(main_df,model_index);\n",
    "calculated_AUC_scores=np.mean(auc_scores,axis=0);\n",
    "output = pd.DataFrame({'Measure': X_cols, 'Expected': actual_auc_scores,'Calculated':calculated_AUC_scores})\n",
    "output.sort_values(\"Calculated\", inplace=True,ascending=False)\n",
    "print(\"Calculated bootstrapped scores using Logistic Regression model\")\n",
    "print(output.head(10))"
   ]
  },
  {
   "cell_type": "code",
   "execution_count": 12,
   "metadata": {},
   "outputs": [
    {
     "name": "stdout",
     "output_type": "stream",
     "text": [
      "Iteration :0\n",
      "Iteration :5000\n",
      "Calculated bootstrapped scores using Random Forest Classifier model\n",
      "   Measure  Expected  Calculated\n",
      "11     DSC  0.825445    0.795168\n",
      "3      WII  0.802286    0.787267\n",
      "8      SIL  0.798531    0.781373\n",
      "9       HM  0.811283    0.778127\n",
      "7      GAM  0.791216    0.771842\n",
      "2      ABW  0.775430    0.764911\n",
      "4      CAL  0.812012    0.734378\n",
      "5      LDA  0.807314    0.733711\n",
      "16   CDM 5  0.736352    0.727933\n",
      "14   CDM 3  0.754523    0.724728\n"
     ]
    }
   ],
   "source": [
    "model_index=2\n",
    "auc_scores=get_bootstrapped_auc_scores(main_df,model_index);\n",
    "calculated_AUC_scores=np.mean(auc_scores,axis=0);\n",
    "output = pd.DataFrame({'Measure': X_cols, 'Expected': actual_auc_scores,'Calculated':calculated_AUC_scores})\n",
    "output.sort_values(\"Calculated\", inplace=True,ascending=False)\n",
    "print(\"Calculated bootstrapped scores using Random Forest Classifier model\")\n",
    "print(output.head(10))"
   ]
  },
  {
   "cell_type": "code",
   "execution_count": 13,
   "metadata": {},
   "outputs": [
    {
     "name": "stdout",
     "output_type": "stream",
     "text": [
      "Iteration :0\n",
      "Iteration :5000\n",
      "Calculated bootstrapped scores using Decision Tree classifier model\n",
      "   Measure  Expected  Calculated\n",
      "11     DSC  0.825445    0.724681\n",
      "8      SIL  0.798531    0.701431\n",
      "7      GAM  0.791216    0.687322\n",
      "3      WII  0.802286    0.680179\n",
      "5      LDA  0.807314    0.669360\n",
      "33  HDM 40  0.692940    0.664187\n",
      "2      ABW  0.775430    0.660763\n",
      "30   HDM 5  0.755787    0.659827\n",
      "16   CDM 5  0.736352    0.659676\n",
      "34  HDM 80  0.655272    0.656764\n"
     ]
    }
   ],
   "source": [
    "#decision tree classifier\n",
    "model_index=3\n",
    "auc_scores=get_bootstrapped_auc_scores(main_df,model_index);\n",
    "calculated_AUC_scores=np.mean(auc_scores,axis=0);\n",
    "output = pd.DataFrame({'Measure': X_cols, 'Expected': actual_auc_scores,'Calculated':calculated_AUC_scores})\n",
    "output.sort_values(\"Calculated\", inplace=True,ascending=False)\n",
    "print(\"Calculated bootstrapped scores using Decision Tree classifier model\")\n",
    "print(output.head(10))"
   ]
  },
  {
   "cell_type": "code",
   "execution_count": 14,
   "metadata": {},
   "outputs": [
    {
     "name": "stdout",
     "output_type": "stream",
     "text": [
      "Iteration :0\n",
      "Iteration :5000\n",
      "Calculated bootstrapped scores using SVM model\n",
      "   Measure  Expected  Calculated\n",
      "11     DSC  0.825445    0.793487\n",
      "3      WII  0.802286    0.790226\n",
      "8      SIL  0.798531    0.785038\n",
      "9       HM  0.811283    0.777890\n",
      "7      GAM  0.791216    0.776251\n",
      "2      ABW  0.775430    0.768785\n",
      "5      LDA  0.807314    0.741168\n",
      "4      CAL  0.812012    0.737553\n",
      "16   CDM 5  0.736352    0.727215\n",
      "15   CDM 4  0.755598    0.726831\n"
     ]
    }
   ],
   "source": [
    "#support vector machine\n",
    "model_index=4\n",
    "auc_scores=get_bootstrapped_auc_scores(main_df,model_index);\n",
    "calculated_AUC_scores=np.mean(auc_scores,axis=0);\n",
    "output = pd.DataFrame({'Measure': X_cols, 'Expected': actual_auc_scores,'Calculated':calculated_AUC_scores})\n",
    "output.sort_values(\"Calculated\", inplace=True,ascending=False)\n",
    "print(\"Calculated bootstrapped scores using SVM model\")\n",
    "print(output.head(10))"
   ]
  },
  {
   "cell_type": "code",
   "execution_count": 15,
   "metadata": {},
   "outputs": [
    {
     "name": "stdout",
     "output_type": "stream",
     "text": [
      "Iteration :0\n",
      "Iteration :5000\n",
      "Calculated bootstrapped scores using K-Nearest Neighbours model\n",
      "   Measure  Expected  Calculated\n",
      "11     DSC  0.825445    0.749448\n",
      "3      WII  0.802286    0.732937\n",
      "8      SIL  0.798531    0.729776\n",
      "7      GAM  0.791216    0.707670\n",
      "9       HM  0.811283    0.707278\n",
      "2      ABW  0.775430    0.705431\n",
      "5      LDA  0.807314    0.682120\n",
      "19   CDM 8  0.711536    0.680529\n",
      "4      CAL  0.812012    0.678065\n",
      "20   CDM 9  0.710013    0.676876\n"
     ]
    }
   ],
   "source": [
    "#knn model\n",
    "model_index=5\n",
    "auc_scores=get_bootstrapped_auc_scores(main_df,model_index);\n",
    "calculated_AUC_scores=np.mean(auc_scores,axis=0);\n",
    "output = pd.DataFrame({'Measure': X_cols, 'Expected': actual_auc_scores,'Calculated':calculated_AUC_scores})\n",
    "output.sort_values(\"Calculated\", inplace=True,ascending=False)\n",
    "print(\"Calculated bootstrapped scores using K-Nearest Neighbours model\")\n",
    "print(output.head(10))"
   ]
  },
  {
   "cell_type": "code",
   "execution_count": 16,
   "metadata": {},
   "outputs": [
    {
     "name": "stdout",
     "output_type": "stream",
     "text": [
      "Iteration :0\n",
      "Iteration :5000\n",
      "Calculated bootstrapped scores using Adaboost Classifier model\n",
      "   Measure  Expected  Calculated\n",
      "11     DSC  0.825445    0.795208\n",
      "3      WII  0.802286    0.785851\n",
      "8      SIL  0.798531    0.782675\n",
      "9       HM  0.811283    0.780319\n",
      "7      GAM  0.791216    0.771615\n",
      "2      ABW  0.775430    0.766233\n",
      "4      CAL  0.812012    0.731957\n",
      "14   CDM 3  0.754523    0.729617\n",
      "5      LDA  0.807314    0.727001\n",
      "16   CDM 5  0.736352    0.725873\n"
     ]
    }
   ],
   "source": [
    "model_index=6\n",
    "auc_scores=get_bootstrapped_auc_scores(main_df,model_index);\n",
    "calculated_AUC_scores=np.mean(auc_scores,axis=0);\n",
    "output = pd.DataFrame({'Measure': X_cols, 'Expected': actual_auc_scores,'Calculated':calculated_AUC_scores})\n",
    "output.sort_values(\"Calculated\", inplace=True,ascending=False)\n",
    "print(\"Calculated bootstrapped scores using Adaboost Classifier model\")\n",
    "print(output.head(10))"
   ]
  },
  {
   "cell_type": "code",
   "execution_count": null,
   "metadata": {},
   "outputs": [],
   "source": []
  },
  {
   "cell_type": "code",
   "execution_count": null,
   "metadata": {},
   "outputs": [],
   "source": []
  }
 ],
 "metadata": {
  "kernelspec": {
   "display_name": "Python 3",
   "language": "python",
   "name": "python3"
  },
  "language_info": {
   "codemirror_mode": {
    "name": "ipython",
    "version": 3
   },
   "file_extension": ".py",
   "mimetype": "text/x-python",
   "name": "python",
   "nbconvert_exporter": "python",
   "pygments_lexer": "ipython3",
   "version": "3.7.3"
  }
 },
 "nbformat": 4,
 "nbformat_minor": 2
}
