{
 "cells": [
  {
   "cell_type": "code",
   "execution_count": 1,
   "metadata": {},
   "outputs": [],
   "source": [
    "#RUN\n",
    "import numpy as np\n",
    "import pandas as pd"
   ]
  },
  {
   "cell_type": "code",
   "execution_count": 1,
   "metadata": {},
   "outputs": [],
   "source": [
    "import matplotlib.pyplot as plt\n",
    "%matplotlib inline\n",
    "plt.style.use('ggplot')"
   ]
  },
  {
   "cell_type": "code",
   "execution_count": 18,
   "metadata": {},
   "outputs": [
    {
     "data": {
      "image/png": "[encoded data removed]",
      "text/plain": [
       "<Figure size 432x288 with 1 Axes>"
      ]
     },
     "metadata": {
      "needs_background": "light"
     },
     "output_type": "display_data"
    }
   ],
   "source": [
    "import numpy as np\n",
    "\n",
    "N = 2\n",
    "men_means = (1532, 1008)\n",
    "women_means = (1708, 1805)\n",
    "\n",
    "ind = np.arange(N) \n",
    "width = 0.35       \n",
    "plt.bar(ind, men_means, width, label='Mapper')\n",
    "plt.bar(ind + width, women_means, width,\n",
    "    label='Reducer')\n",
    "\n",
    "plt.ylabel('Time (seconds)')\n",
    "plt.title('Mapper-Reducer Total Execution Time')\n",
    "# plt.set_xlim([xmin,xmax])\n",
    "plt.ylim([0,2000])\n",
    "\n",
    "plt.xticks(ind + width / 2, ('1 Node', '2 Node'))\n",
    "plt.legend(loc='center')\n",
    "plt.show()"
   ]
  },
  {
   "cell_type": "markdown",
   "metadata": {},
   "source": [
    "Read the CSV file and remove the last row from dataframe because the last row is the captured ACUBA scores for this dataset."
   ]
  },
  {
   "cell_type": "code",
   "execution_count": 2,
   "metadata": {},
   "outputs": [
    {
     "name": "stdout",
     "output_type": "stream",
     "text": [
      "Total number of rows in original dataframe:829\n",
      "Total number of rows in modified dataframe:828\n"
     ]
    }
   ],
   "source": [
    "#RUN\n",
    "df=pd.read_csv(\"RESULTS_EUROVIS2015.csv\");\n",
    "\n",
    "AUC_scores=df.tail(1);\n",
    "main_df=df[:-1];\n",
    "\n",
    "print(\"Total number of rows in original dataframe:\"+str(len(df.index)));\n",
    "print(\"Total number of rows in modified dataframe:\"+str(len(main_df.index)));\n"
   ]
  },
  {
   "cell_type": "code",
   "execution_count": 3,
   "metadata": {},
   "outputs": [
    {
     "data": {
      "text/html": [
       "<div>\n",
       "<style scoped>\n",
       "    .dataframe tbody tr th:only-of-type {\n",
       "        vertical-align: middle;\n",
       "    }\n",
       "\n",
       "    .dataframe tbody tr th {\n",
       "        vertical-align: top;\n",
       "    }\n",
       "\n",
       "    .dataframe thead th {\n",
       "        text-align: right;\n",
       "    }\n",
       "</style>\n",
       "<table border=\"1\" class=\"dataframe\">\n",
       "  <thead>\n",
       "    <tr style=\"text-align: right;\">\n",
       "      <th></th>\n",
       "      <th>indexFile</th>\n",
       "      <th>indexDR</th>\n",
       "      <th>classNum</th>\n",
       "      <th>scoreA</th>\n",
       "      <th>scoreM</th>\n",
       "      <th>scoreDes</th>\n",
       "      <th>DSC</th>\n",
       "      <th>CAL</th>\n",
       "      <th>HM</th>\n",
       "      <th>LDA</th>\n",
       "      <th>...</th>\n",
       "      <th>DC 20%</th>\n",
       "      <th>HDM 80</th>\n",
       "      <th>DC 2%</th>\n",
       "      <th>DUNN</th>\n",
       "      <th>DC 1%</th>\n",
       "      <th>DC 0.5%</th>\n",
       "      <th>CDM 1</th>\n",
       "      <th>DC 0.2%</th>\n",
       "      <th>DC 0.1%</th>\n",
       "      <th>AWTN</th>\n",
       "    </tr>\n",
       "  </thead>\n",
       "  <tbody>\n",
       "    <tr>\n",
       "      <th>count</th>\n",
       "      <td>828.000000</td>\n",
       "      <td>828.000000</td>\n",
       "      <td>828.00000</td>\n",
       "      <td>828.000000</td>\n",
       "      <td>828.000000</td>\n",
       "      <td>828.000000</td>\n",
       "      <td>828.000000</td>\n",
       "      <td>828.000000</td>\n",
       "      <td>828.000000</td>\n",
       "      <td>828.000000</td>\n",
       "      <td>...</td>\n",
       "      <td>828.000000</td>\n",
       "      <td>828.000000</td>\n",
       "      <td>828.000000</td>\n",
       "      <td>828.000000</td>\n",
       "      <td>828.000000</td>\n",
       "      <td>828.000000</td>\n",
       "      <td>828.000000</td>\n",
       "      <td>828.000000</td>\n",
       "      <td>828.000000</td>\n",
       "      <td>828.000000</td>\n",
       "    </tr>\n",
       "    <tr>\n",
       "      <th>mean</th>\n",
       "      <td>37.751208</td>\n",
       "      <td>2.450483</td>\n",
       "      <td>3.52657</td>\n",
       "      <td>2.979469</td>\n",
       "      <td>2.949275</td>\n",
       "      <td>0.507246</td>\n",
       "      <td>77.429402</td>\n",
       "      <td>80.298799</td>\n",
       "      <td>82.342098</td>\n",
       "      <td>0.594322</td>\n",
       "      <td>...</td>\n",
       "      <td>63.634851</td>\n",
       "      <td>98.403195</td>\n",
       "      <td>96.553164</td>\n",
       "      <td>0.027152</td>\n",
       "      <td>99.459394</td>\n",
       "      <td>99.935704</td>\n",
       "      <td>87.927730</td>\n",
       "      <td>99.996095</td>\n",
       "      <td>99.999158</td>\n",
       "      <td>270.766188</td>\n",
       "    </tr>\n",
       "    <tr>\n",
       "      <th>std</th>\n",
       "      <td>20.766822</td>\n",
       "      <td>1.115446</td>\n",
       "      <td>2.54403</td>\n",
       "      <td>1.631259</td>\n",
       "      <td>1.749717</td>\n",
       "      <td>0.500250</td>\n",
       "      <td>14.363301</td>\n",
       "      <td>118.300177</td>\n",
       "      <td>10.342507</td>\n",
       "      <td>1.481028</td>\n",
       "      <td>...</td>\n",
       "      <td>19.729777</td>\n",
       "      <td>3.748677</td>\n",
       "      <td>4.953790</td>\n",
       "      <td>0.059874</td>\n",
       "      <td>1.121827</td>\n",
       "      <td>0.185837</td>\n",
       "      <td>7.215781</td>\n",
       "      <td>0.019771</td>\n",
       "      <td>0.005084</td>\n",
       "      <td>78.268813</td>\n",
       "    </tr>\n",
       "    <tr>\n",
       "      <th>min</th>\n",
       "      <td>1.000000</td>\n",
       "      <td>1.000000</td>\n",
       "      <td>1.00000</td>\n",
       "      <td>0.000000</td>\n",
       "      <td>0.000000</td>\n",
       "      <td>0.000000</td>\n",
       "      <td>29.010239</td>\n",
       "      <td>0.007398</td>\n",
       "      <td>47.360794</td>\n",
       "      <td>0.000002</td>\n",
       "      <td>...</td>\n",
       "      <td>5.374185</td>\n",
       "      <td>53.901868</td>\n",
       "      <td>57.287289</td>\n",
       "      <td>0.000891</td>\n",
       "      <td>87.332331</td>\n",
       "      <td>97.799476</td>\n",
       "      <td>39.832298</td>\n",
       "      <td>99.711761</td>\n",
       "      <td>99.925354</td>\n",
       "      <td>38.993885</td>\n",
       "    </tr>\n",
       "    <tr>\n",
       "      <th>25%</th>\n",
       "      <td>16.000000</td>\n",
       "      <td>1.000000</td>\n",
       "      <td>2.00000</td>\n",
       "      <td>1.000000</td>\n",
       "      <td>1.000000</td>\n",
       "      <td>0.000000</td>\n",
       "      <td>66.650000</td>\n",
       "      <td>3.798646</td>\n",
       "      <td>75.515331</td>\n",
       "      <td>0.012565</td>\n",
       "      <td>...</td>\n",
       "      <td>52.270991</td>\n",
       "      <td>98.247322</td>\n",
       "      <td>95.165531</td>\n",
       "      <td>0.003489</td>\n",
       "      <td>99.374314</td>\n",
       "      <td>99.944297</td>\n",
       "      <td>84.619306</td>\n",
       "      <td>99.999112</td>\n",
       "      <td>100.000000</td>\n",
       "      <td>235.497898</td>\n",
       "    </tr>\n",
       "    <tr>\n",
       "      <th>50%</th>\n",
       "      <td>40.000000</td>\n",
       "      <td>3.000000</td>\n",
       "      <td>3.00000</td>\n",
       "      <td>3.000000</td>\n",
       "      <td>3.000000</td>\n",
       "      <td>1.000000</td>\n",
       "      <td>79.335260</td>\n",
       "      <td>24.730365</td>\n",
       "      <td>83.765962</td>\n",
       "      <td>0.091180</td>\n",
       "      <td>...</td>\n",
       "      <td>64.001399</td>\n",
       "      <td>100.000000</td>\n",
       "      <td>98.675758</td>\n",
       "      <td>0.007414</td>\n",
       "      <td>99.875350</td>\n",
       "      <td>99.992992</td>\n",
       "      <td>89.100684</td>\n",
       "      <td>100.000000</td>\n",
       "      <td>100.000000</td>\n",
       "      <td>286.045767</td>\n",
       "    </tr>\n",
       "    <tr>\n",
       "      <th>75%</th>\n",
       "      <td>55.000000</td>\n",
       "      <td>3.000000</td>\n",
       "      <td>5.00000</td>\n",
       "      <td>5.000000</td>\n",
       "      <td>5.000000</td>\n",
       "      <td>1.000000</td>\n",
       "      <td>89.450000</td>\n",
       "      <td>113.261177</td>\n",
       "      <td>90.789427</td>\n",
       "      <td>0.533361</td>\n",
       "      <td>...</td>\n",
       "      <td>76.557142</td>\n",
       "      <td>100.000000</td>\n",
       "      <td>99.852436</td>\n",
       "      <td>0.026669</td>\n",
       "      <td>100.000000</td>\n",
       "      <td>100.000000</td>\n",
       "      <td>92.874167</td>\n",
       "      <td>100.000000</td>\n",
       "      <td>100.000000</td>\n",
       "      <td>324.972774</td>\n",
       "    </tr>\n",
       "    <tr>\n",
       "      <th>max</th>\n",
       "      <td>70.000000</td>\n",
       "      <td>4.000000</td>\n",
       "      <td>13.00000</td>\n",
       "      <td>5.000000</td>\n",
       "      <td>5.000000</td>\n",
       "      <td>1.000000</td>\n",
       "      <td>100.000000</td>\n",
       "      <td>1038.602336</td>\n",
       "      <td>99.005716</td>\n",
       "      <td>25.837629</td>\n",
       "      <td>...</td>\n",
       "      <td>100.000000</td>\n",
       "      <td>100.000000</td>\n",
       "      <td>100.000000</td>\n",
       "      <td>0.707247</td>\n",
       "      <td>100.000000</td>\n",
       "      <td>100.000000</td>\n",
       "      <td>99.310559</td>\n",
       "      <td>100.000000</td>\n",
       "      <td>100.000000</td>\n",
       "      <td>457.396744</td>\n",
       "    </tr>\n",
       "  </tbody>\n",
       "</table>\n",
       "<p>8 rows × 41 columns</p>\n",
       "</div>"
      ],
      "text/plain": [
       "        indexFile     indexDR   classNum      scoreA      scoreM    scoreDes  \\\n",
       "count  828.000000  828.000000  828.00000  828.000000  828.000000  828.000000   \n",
       "mean    37.751208    2.450483    3.52657    2.979469    2.949275    0.507246   \n",
       "std     20.766822    1.115446    2.54403    1.631259    1.749717    0.500250   \n",
       "min      1.000000    1.000000    1.00000    0.000000    0.000000    0.000000   \n",
       "25%     16.000000    1.000000    2.00000    1.000000    1.000000    0.000000   \n",
       "50%     40.000000    3.000000    3.00000    3.000000    3.000000    1.000000   \n",
       "75%     55.000000    3.000000    5.00000    5.000000    5.000000    1.000000   \n",
       "max     70.000000    4.000000   13.00000    5.000000    5.000000    1.000000   \n",
       "\n",
       "              DSC          CAL          HM         LDA     ...      \\\n",
       "count  828.000000   828.000000  828.000000  828.000000     ...       \n",
       "mean    77.429402    80.298799   82.342098    0.594322     ...       \n",
       "std     14.363301   118.300177   10.342507    1.481028     ...       \n",
       "min     29.010239     0.007398   47.360794    0.000002     ...       \n",
       "25%     66.650000     3.798646   75.515331    0.012565     ...       \n",
       "50%     79.335260    24.730365   83.765962    0.091180     ...       \n",
       "75%     89.450000   113.261177   90.789427    0.533361     ...       \n",
       "max    100.000000  1038.602336   99.005716   25.837629     ...       \n",
       "\n",
       "           DC 20%      HDM 80       DC 2%        DUNN       DC 1%     DC 0.5%  \\\n",
       "count  828.000000  828.000000  828.000000  828.000000  828.000000  828.000000   \n",
       "mean    63.634851   98.403195   96.553164    0.027152   99.459394   99.935704   \n",
       "std     19.729777    3.748677    4.953790    0.059874    1.121827    0.185837   \n",
       "min      5.374185   53.901868   57.287289    0.000891   87.332331   97.799476   \n",
       "25%     52.270991   98.247322   95.165531    0.003489   99.374314   99.944297   \n",
       "50%     64.001399  100.000000   98.675758    0.007414   99.875350   99.992992   \n",
       "75%     76.557142  100.000000   99.852436    0.026669  100.000000  100.000000   \n",
       "max    100.000000  100.000000  100.000000    0.707247  100.000000  100.000000   \n",
       "\n",
       "            CDM 1     DC 0.2%     DC 0.1%        AWTN  \n",
       "count  828.000000  828.000000  828.000000  828.000000  \n",
       "mean    87.927730   99.996095   99.999158  270.766188  \n",
       "std      7.215781    0.019771    0.005084   78.268813  \n",
       "min     39.832298   99.711761   99.925354   38.993885  \n",
       "25%     84.619306   99.999112  100.000000  235.497898  \n",
       "50%     89.100684  100.000000  100.000000  286.045767  \n",
       "75%     92.874167  100.000000  100.000000  324.972774  \n",
       "max     99.310559  100.000000  100.000000  457.396744  \n",
       "\n",
       "[8 rows x 41 columns]"
      ]
     },
     "execution_count": 3,
     "metadata": {},
     "output_type": "execute_result"
    }
   ],
   "source": [
    "# Optional\n",
    "main_df.describe()"
   ]
  },
  {
   "cell_type": "code",
   "execution_count": 4,
   "metadata": {},
   "outputs": [
    {
     "data": {
      "text/plain": [
       "Index(['fileName', 'indexFile', 'indexDR', 'classNum', 'scoreA', 'scoreM',\n",
       "       'scoreDes', 'DSC', 'CAL', 'HM', 'LDA', 'WII', 'SIL', 'GAM', 'ABW', 'CS',\n",
       "       'HDM 10', 'ABTN', 'HDM 5', 'CDM 4', 'CDM 3', 'DC 10%', 'CDM 5', 'CDM 2',\n",
       "       'CDM 6', 'CDM 7', 'DC 5%', 'CDM 8', 'CDM 10', 'CDM 9', 'HDM 20',\n",
       "       'HDM 40', 'DC 20%', 'HDM 80', 'DC 2%', 'DUNN', 'DC 1%', 'DC 0.5%',\n",
       "       'CDM 1', 'DC 0.2%', 'DC 0.1%', 'AWTN'],\n",
       "      dtype='object')"
      ]
     },
     "execution_count": 4,
     "metadata": {},
     "output_type": "execute_result"
    }
   ],
   "source": [
    "# Optional\n",
    "main_df.columns"
   ]
  },
  {
   "cell_type": "code",
   "execution_count": 5,
   "metadata": {},
   "outputs": [],
   "source": [
    "# RUN\n",
    "#rerranging the columms in the order given in the paper.\n",
    "target_var='scoreDes'\n",
    "file_descriptors=['fileName', 'indexFile', 'indexDR', 'classNum', 'scoreA', 'scoreM']+[target_var]\n",
    "\n",
    "\n",
    "measure_cols=['ABTN','AWTN','ABW','WII','CAL','LDA','DUNN','GAM','SIL','HM','CS','DSC',\n",
    "            'CDM 1','CDM 2','CDM 3','CDM 4','CDM 5', 'CDM 6', 'CDM 7', 'CDM 8', 'CDM 9', 'CDM 10',\n",
    "           'DC 0.1%','DC 0.2%','DC 0.5%','DC 1%','DC 2%','DC 5%','DC 10%','DC 20%',\n",
    "           'HDM 5','HDM 10','HDM 20','HDM 40','HDM 80']\n",
    "\n",
    "new_cols=file_descriptors+measure_cols;"
   ]
  },
  {
   "cell_type": "code",
   "execution_count": 6,
   "metadata": {},
   "outputs": [
    {
     "data": {
      "text/plain": [
       "Index(['fileName', 'indexFile', 'indexDR', 'classNum', 'scoreA', 'scoreM',\n",
       "       'scoreDes', 'ABTN', 'AWTN', 'ABW', 'WII', 'CAL', 'LDA', 'DUNN', 'GAM',\n",
       "       'SIL', 'HM', 'CS', 'DSC', 'CDM 1', 'CDM 2', 'CDM 3', 'CDM 4', 'CDM 5',\n",
       "       'CDM 6', 'CDM 7', 'CDM 8', 'CDM 9', 'CDM 10', 'DC 0.1%', 'DC 0.2%',\n",
       "       'DC 0.5%', 'DC 1%', 'DC 2%', 'DC 5%', 'DC 10%', 'DC 20%', 'HDM 5',\n",
       "       'HDM 10', 'HDM 20', 'HDM 40', 'HDM 80'],\n",
       "      dtype='object')"
      ]
     },
     "execution_count": 6,
     "metadata": {},
     "output_type": "execute_result"
    }
   ],
   "source": [
    "# RUN\n",
    "main_df=main_df[new_cols]\n",
    "main_df.columns"
   ]
  },
  {
   "cell_type": "code",
   "execution_count": 7,
   "metadata": {},
   "outputs": [
    {
     "data": {
      "text/html": [
       "<div>\n",
       "<style scoped>\n",
       "    .dataframe tbody tr th:only-of-type {\n",
       "        vertical-align: middle;\n",
       "    }\n",
       "\n",
       "    .dataframe tbody tr th {\n",
       "        vertical-align: top;\n",
       "    }\n",
       "\n",
       "    .dataframe thead th {\n",
       "        text-align: right;\n",
       "    }\n",
       "</style>\n",
       "<table border=\"1\" class=\"dataframe\">\n",
       "  <thead>\n",
       "    <tr style=\"text-align: right;\">\n",
       "      <th></th>\n",
       "      <th>indexFile</th>\n",
       "      <th>indexDR</th>\n",
       "      <th>classNum</th>\n",
       "      <th>scoreA</th>\n",
       "      <th>scoreM</th>\n",
       "      <th>scoreDes</th>\n",
       "      <th>ABTN</th>\n",
       "      <th>AWTN</th>\n",
       "      <th>ABW</th>\n",
       "      <th>WII</th>\n",
       "      <th>...</th>\n",
       "      <th>DC 1%</th>\n",
       "      <th>DC 2%</th>\n",
       "      <th>DC 5%</th>\n",
       "      <th>DC 10%</th>\n",
       "      <th>DC 20%</th>\n",
       "      <th>HDM 5</th>\n",
       "      <th>HDM 10</th>\n",
       "      <th>HDM 20</th>\n",
       "      <th>HDM 40</th>\n",
       "      <th>HDM 80</th>\n",
       "    </tr>\n",
       "  </thead>\n",
       "  <tbody>\n",
       "    <tr>\n",
       "      <th>count</th>\n",
       "      <td>828.000000</td>\n",
       "      <td>828.000000</td>\n",
       "      <td>828.00000</td>\n",
       "      <td>828.000000</td>\n",
       "      <td>828.000000</td>\n",
       "      <td>828.000000</td>\n",
       "      <td>828.000000</td>\n",
       "      <td>828.000000</td>\n",
       "      <td>828.000000</td>\n",
       "      <td>828.000000</td>\n",
       "      <td>...</td>\n",
       "      <td>828.000000</td>\n",
       "      <td>828.000000</td>\n",
       "      <td>828.000000</td>\n",
       "      <td>828.000000</td>\n",
       "      <td>828.000000</td>\n",
       "      <td>828.000000</td>\n",
       "      <td>828.000000</td>\n",
       "      <td>828.000000</td>\n",
       "      <td>828.000000</td>\n",
       "      <td>828.000000</td>\n",
       "    </tr>\n",
       "    <tr>\n",
       "      <th>mean</th>\n",
       "      <td>37.751208</td>\n",
       "      <td>2.450483</td>\n",
       "      <td>3.52657</td>\n",
       "      <td>2.979469</td>\n",
       "      <td>2.949275</td>\n",
       "      <td>0.507246</td>\n",
       "      <td>338.962642</td>\n",
       "      <td>270.766188</td>\n",
       "      <td>1.319842</td>\n",
       "      <td>0.319472</td>\n",
       "      <td>...</td>\n",
       "      <td>99.459394</td>\n",
       "      <td>96.553164</td>\n",
       "      <td>85.741579</td>\n",
       "      <td>74.872428</td>\n",
       "      <td>63.634851</td>\n",
       "      <td>71.313912</td>\n",
       "      <td>80.529741</td>\n",
       "      <td>89.152458</td>\n",
       "      <td>95.264410</td>\n",
       "      <td>98.403195</td>\n",
       "    </tr>\n",
       "    <tr>\n",
       "      <th>std</th>\n",
       "      <td>20.766822</td>\n",
       "      <td>1.115446</td>\n",
       "      <td>2.54403</td>\n",
       "      <td>1.631259</td>\n",
       "      <td>1.749717</td>\n",
       "      <td>0.500250</td>\n",
       "      <td>111.231871</td>\n",
       "      <td>78.268813</td>\n",
       "      <td>0.629271</td>\n",
       "      <td>0.289950</td>\n",
       "      <td>...</td>\n",
       "      <td>1.121827</td>\n",
       "      <td>4.953790</td>\n",
       "      <td>13.214279</td>\n",
       "      <td>17.521521</td>\n",
       "      <td>19.729777</td>\n",
       "      <td>19.202670</td>\n",
       "      <td>16.130626</td>\n",
       "      <td>12.025008</td>\n",
       "      <td>6.933171</td>\n",
       "      <td>3.748677</td>\n",
       "    </tr>\n",
       "    <tr>\n",
       "      <th>min</th>\n",
       "      <td>1.000000</td>\n",
       "      <td>1.000000</td>\n",
       "      <td>1.00000</td>\n",
       "      <td>0.000000</td>\n",
       "      <td>0.000000</td>\n",
       "      <td>0.000000</td>\n",
       "      <td>49.310536</td>\n",
       "      <td>38.993885</td>\n",
       "      <td>0.600845</td>\n",
       "      <td>-3.527704</td>\n",
       "      <td>...</td>\n",
       "      <td>87.332331</td>\n",
       "      <td>57.287289</td>\n",
       "      <td>21.619166</td>\n",
       "      <td>10.517643</td>\n",
       "      <td>5.374185</td>\n",
       "      <td>3.658876</td>\n",
       "      <td>12.357476</td>\n",
       "      <td>31.797620</td>\n",
       "      <td>51.107174</td>\n",
       "      <td>53.901868</td>\n",
       "    </tr>\n",
       "    <tr>\n",
       "      <th>25%</th>\n",
       "      <td>16.000000</td>\n",
       "      <td>1.000000</td>\n",
       "      <td>2.00000</td>\n",
       "      <td>1.000000</td>\n",
       "      <td>1.000000</td>\n",
       "      <td>0.000000</td>\n",
       "      <td>275.088871</td>\n",
       "      <td>235.497898</td>\n",
       "      <td>1.015355</td>\n",
       "      <td>0.253168</td>\n",
       "      <td>...</td>\n",
       "      <td>99.374314</td>\n",
       "      <td>95.165531</td>\n",
       "      <td>79.880495</td>\n",
       "      <td>66.123959</td>\n",
       "      <td>52.270991</td>\n",
       "      <td>60.522081</td>\n",
       "      <td>72.438332</td>\n",
       "      <td>84.133503</td>\n",
       "      <td>93.066142</td>\n",
       "      <td>98.247322</td>\n",
       "    </tr>\n",
       "    <tr>\n",
       "      <th>50%</th>\n",
       "      <td>40.000000</td>\n",
       "      <td>3.000000</td>\n",
       "      <td>3.00000</td>\n",
       "      <td>3.000000</td>\n",
       "      <td>3.000000</td>\n",
       "      <td>1.000000</td>\n",
       "      <td>350.604171</td>\n",
       "      <td>286.045767</td>\n",
       "      <td>1.209355</td>\n",
       "      <td>0.372944</td>\n",
       "      <td>...</td>\n",
       "      <td>99.875350</td>\n",
       "      <td>98.675758</td>\n",
       "      <td>88.616953</td>\n",
       "      <td>76.929400</td>\n",
       "      <td>64.001399</td>\n",
       "      <td>72.610273</td>\n",
       "      <td>83.561170</td>\n",
       "      <td>92.835117</td>\n",
       "      <td>97.952218</td>\n",
       "      <td>100.000000</td>\n",
       "    </tr>\n",
       "    <tr>\n",
       "      <th>75%</th>\n",
       "      <td>55.000000</td>\n",
       "      <td>3.000000</td>\n",
       "      <td>5.00000</td>\n",
       "      <td>5.000000</td>\n",
       "      <td>5.000000</td>\n",
       "      <td>1.000000</td>\n",
       "      <td>401.936194</td>\n",
       "      <td>324.972774</td>\n",
       "      <td>1.431921</td>\n",
       "      <td>0.474543</td>\n",
       "      <td>...</td>\n",
       "      <td>100.000000</td>\n",
       "      <td>99.852436</td>\n",
       "      <td>95.800770</td>\n",
       "      <td>87.248803</td>\n",
       "      <td>76.557142</td>\n",
       "      <td>85.641875</td>\n",
       "      <td>93.738713</td>\n",
       "      <td>98.802395</td>\n",
       "      <td>100.000000</td>\n",
       "      <td>100.000000</td>\n",
       "    </tr>\n",
       "    <tr>\n",
       "      <th>max</th>\n",
       "      <td>70.000000</td>\n",
       "      <td>4.000000</td>\n",
       "      <td>13.00000</td>\n",
       "      <td>5.000000</td>\n",
       "      <td>5.000000</td>\n",
       "      <td>1.000000</td>\n",
       "      <td>939.229710</td>\n",
       "      <td>457.396744</td>\n",
       "      <td>9.333784</td>\n",
       "      <td>0.645071</td>\n",
       "      <td>...</td>\n",
       "      <td>100.000000</td>\n",
       "      <td>100.000000</td>\n",
       "      <td>100.000000</td>\n",
       "      <td>100.000000</td>\n",
       "      <td>100.000000</td>\n",
       "      <td>100.000000</td>\n",
       "      <td>100.000000</td>\n",
       "      <td>100.000000</td>\n",
       "      <td>100.000000</td>\n",
       "      <td>100.000000</td>\n",
       "    </tr>\n",
       "  </tbody>\n",
       "</table>\n",
       "<p>8 rows × 41 columns</p>\n",
       "</div>"
      ],
      "text/plain": [
       "        indexFile     indexDR   classNum      scoreA      scoreM    scoreDes  \\\n",
       "count  828.000000  828.000000  828.00000  828.000000  828.000000  828.000000   \n",
       "mean    37.751208    2.450483    3.52657    2.979469    2.949275    0.507246   \n",
       "std     20.766822    1.115446    2.54403    1.631259    1.749717    0.500250   \n",
       "min      1.000000    1.000000    1.00000    0.000000    0.000000    0.000000   \n",
       "25%     16.000000    1.000000    2.00000    1.000000    1.000000    0.000000   \n",
       "50%     40.000000    3.000000    3.00000    3.000000    3.000000    1.000000   \n",
       "75%     55.000000    3.000000    5.00000    5.000000    5.000000    1.000000   \n",
       "max     70.000000    4.000000   13.00000    5.000000    5.000000    1.000000   \n",
       "\n",
       "             ABTN        AWTN         ABW         WII     ...           DC 1%  \\\n",
       "count  828.000000  828.000000  828.000000  828.000000     ...      828.000000   \n",
       "mean   338.962642  270.766188    1.319842    0.319472     ...       99.459394   \n",
       "std    111.231871   78.268813    0.629271    0.289950     ...        1.121827   \n",
       "min     49.310536   38.993885    0.600845   -3.527704     ...       87.332331   \n",
       "25%    275.088871  235.497898    1.015355    0.253168     ...       99.374314   \n",
       "50%    350.604171  286.045767    1.209355    0.372944     ...       99.875350   \n",
       "75%    401.936194  324.972774    1.431921    0.474543     ...      100.000000   \n",
       "max    939.229710  457.396744    9.333784    0.645071     ...      100.000000   \n",
       "\n",
       "            DC 2%       DC 5%      DC 10%      DC 20%       HDM 5      HDM 10  \\\n",
       "count  828.000000  828.000000  828.000000  828.000000  828.000000  828.000000   \n",
       "mean    96.553164   85.741579   74.872428   63.634851   71.313912   80.529741   \n",
       "std      4.953790   13.214279   17.521521   19.729777   19.202670   16.130626   \n",
       "min     57.287289   21.619166   10.517643    5.374185    3.658876   12.357476   \n",
       "25%     95.165531   79.880495   66.123959   52.270991   60.522081   72.438332   \n",
       "50%     98.675758   88.616953   76.929400   64.001399   72.610273   83.561170   \n",
       "75%     99.852436   95.800770   87.248803   76.557142   85.641875   93.738713   \n",
       "max    100.000000  100.000000  100.000000  100.000000  100.000000  100.000000   \n",
       "\n",
       "           HDM 20      HDM 40      HDM 80  \n",
       "count  828.000000  828.000000  828.000000  \n",
       "mean    89.152458   95.264410   98.403195  \n",
       "std     12.025008    6.933171    3.748677  \n",
       "min     31.797620   51.107174   53.901868  \n",
       "25%     84.133503   93.066142   98.247322  \n",
       "50%     92.835117   97.952218  100.000000  \n",
       "75%     98.802395  100.000000  100.000000  \n",
       "max    100.000000  100.000000  100.000000  \n",
       "\n",
       "[8 rows x 41 columns]"
      ]
     },
     "execution_count": 7,
     "metadata": {},
     "output_type": "execute_result"
    }
   ],
   "source": [
    "main_df.describe()"
   ]
  },
  {
   "cell_type": "markdown",
   "metadata": {},
   "source": [
    "# Initial work\n",
    "\n",
    "Used the data and tried few binary classifier on the data to find auc for the curves"
   ]
  },
  {
   "cell_type": "code",
   "execution_count": 121,
   "metadata": {},
   "outputs": [],
   "source": [
    "# INITIAL WORK IS OPTIONAL"
   ]
  },
  {
   "cell_type": "code",
   "execution_count": 8,
   "metadata": {},
   "outputs": [
    {
     "data": {
      "text/plain": [
       "1    420\n",
       "0    408\n",
       "Name: scoreDes, dtype: int64"
      ]
     },
     "execution_count": 8,
     "metadata": {},
     "output_type": "execute_result"
    }
   ],
   "source": [
    "main_df[target_var].value_counts()"
   ]
  },
  {
   "cell_type": "code",
   "execution_count": 9,
   "metadata": {},
   "outputs": [
    {
     "data": {
      "text/html": [
       "<div>\n",
       "<style scoped>\n",
       "    .dataframe tbody tr th:only-of-type {\n",
       "        vertical-align: middle;\n",
       "    }\n",
       "\n",
       "    .dataframe tbody tr th {\n",
       "        vertical-align: top;\n",
       "    }\n",
       "\n",
       "    .dataframe thead th {\n",
       "        text-align: right;\n",
       "    }\n",
       "</style>\n",
       "<table border=\"1\" class=\"dataframe\">\n",
       "  <thead>\n",
       "    <tr style=\"text-align: right;\">\n",
       "      <th></th>\n",
       "      <th>ABTN</th>\n",
       "      <th>AWTN</th>\n",
       "      <th>ABW</th>\n",
       "      <th>WII</th>\n",
       "      <th>CAL</th>\n",
       "    </tr>\n",
       "  </thead>\n",
       "  <tbody>\n",
       "    <tr>\n",
       "      <th>count</th>\n",
       "      <td>828.000000</td>\n",
       "      <td>828.000000</td>\n",
       "      <td>828.000000</td>\n",
       "      <td>828.000000</td>\n",
       "      <td>828.000000</td>\n",
       "    </tr>\n",
       "    <tr>\n",
       "      <th>mean</th>\n",
       "      <td>338.962642</td>\n",
       "      <td>270.766188</td>\n",
       "      <td>1.319842</td>\n",
       "      <td>0.319472</td>\n",
       "      <td>80.298799</td>\n",
       "    </tr>\n",
       "    <tr>\n",
       "      <th>std</th>\n",
       "      <td>111.231871</td>\n",
       "      <td>78.268813</td>\n",
       "      <td>0.629271</td>\n",
       "      <td>0.289950</td>\n",
       "      <td>118.300177</td>\n",
       "    </tr>\n",
       "    <tr>\n",
       "      <th>min</th>\n",
       "      <td>49.310536</td>\n",
       "      <td>38.993885</td>\n",
       "      <td>0.600845</td>\n",
       "      <td>-3.527704</td>\n",
       "      <td>0.007398</td>\n",
       "    </tr>\n",
       "    <tr>\n",
       "      <th>25%</th>\n",
       "      <td>275.088871</td>\n",
       "      <td>235.497898</td>\n",
       "      <td>1.015355</td>\n",
       "      <td>0.253168</td>\n",
       "      <td>3.798646</td>\n",
       "    </tr>\n",
       "    <tr>\n",
       "      <th>50%</th>\n",
       "      <td>350.604171</td>\n",
       "      <td>286.045767</td>\n",
       "      <td>1.209355</td>\n",
       "      <td>0.372944</td>\n",
       "      <td>24.730365</td>\n",
       "    </tr>\n",
       "    <tr>\n",
       "      <th>75%</th>\n",
       "      <td>401.936194</td>\n",
       "      <td>324.972774</td>\n",
       "      <td>1.431921</td>\n",
       "      <td>0.474543</td>\n",
       "      <td>113.261177</td>\n",
       "    </tr>\n",
       "    <tr>\n",
       "      <th>max</th>\n",
       "      <td>939.229710</td>\n",
       "      <td>457.396744</td>\n",
       "      <td>9.333784</td>\n",
       "      <td>0.645071</td>\n",
       "      <td>1038.602336</td>\n",
       "    </tr>\n",
       "  </tbody>\n",
       "</table>\n",
       "</div>"
      ],
      "text/plain": [
       "             ABTN        AWTN         ABW         WII          CAL\n",
       "count  828.000000  828.000000  828.000000  828.000000   828.000000\n",
       "mean   338.962642  270.766188    1.319842    0.319472    80.298799\n",
       "std    111.231871   78.268813    0.629271    0.289950   118.300177\n",
       "min     49.310536   38.993885    0.600845   -3.527704     0.007398\n",
       "25%    275.088871  235.497898    1.015355    0.253168     3.798646\n",
       "50%    350.604171  286.045767    1.209355    0.372944    24.730365\n",
       "75%    401.936194  324.972774    1.431921    0.474543   113.261177\n",
       "max    939.229710  457.396744    9.333784    0.645071  1038.602336"
      ]
     },
     "execution_count": 9,
     "metadata": {},
     "output_type": "execute_result"
    }
   ],
   "source": [
    "# Select first five attributes\n",
    "measure_cols_5=['ABTN','AWTN','ABW','WII','CAL']\n",
    "# df_col_5 holds the first five as a dataframe\n",
    "df_col_5 = main_df[measure_cols_5]\n",
    "# y = target value 'scoreDes'\n",
    "y = main_df[target_var]\n",
    "df_col_5.describe()"
   ]
  },
  {
   "cell_type": "code",
   "execution_count": 10,
   "metadata": {},
   "outputs": [
    {
     "data": {
      "text/html": [
       "<div>\n",
       "<style scoped>\n",
       "    .dataframe tbody tr th:only-of-type {\n",
       "        vertical-align: middle;\n",
       "    }\n",
       "\n",
       "    .dataframe tbody tr th {\n",
       "        vertical-align: top;\n",
       "    }\n",
       "\n",
       "    .dataframe thead th {\n",
       "        text-align: right;\n",
       "    }\n",
       "</style>\n",
       "<table border=\"1\" class=\"dataframe\">\n",
       "  <thead>\n",
       "    <tr style=\"text-align: right;\">\n",
       "      <th></th>\n",
       "      <th>ABTN</th>\n",
       "      <th>AWTN</th>\n",
       "      <th>ABW</th>\n",
       "      <th>WII</th>\n",
       "      <th>CAL</th>\n",
       "    </tr>\n",
       "  </thead>\n",
       "  <tbody>\n",
       "    <tr>\n",
       "      <th>0</th>\n",
       "      <td>432.673057</td>\n",
       "      <td>330.792098</td>\n",
       "      <td>1.307991</td>\n",
       "      <td>0.320842</td>\n",
       "      <td>168.392790</td>\n",
       "    </tr>\n",
       "    <tr>\n",
       "      <th>1</th>\n",
       "      <td>436.826178</td>\n",
       "      <td>327.474607</td>\n",
       "      <td>1.333924</td>\n",
       "      <td>0.305026</td>\n",
       "      <td>202.032855</td>\n",
       "    </tr>\n",
       "    <tr>\n",
       "      <th>2</th>\n",
       "      <td>436.369860</td>\n",
       "      <td>327.621398</td>\n",
       "      <td>1.331933</td>\n",
       "      <td>0.313059</td>\n",
       "      <td>179.412919</td>\n",
       "    </tr>\n",
       "    <tr>\n",
       "      <th>3</th>\n",
       "      <td>430.096586</td>\n",
       "      <td>324.705526</td>\n",
       "      <td>1.324574</td>\n",
       "      <td>0.312085</td>\n",
       "      <td>181.354553</td>\n",
       "    </tr>\n",
       "    <tr>\n",
       "      <th>4</th>\n",
       "      <td>429.725772</td>\n",
       "      <td>324.363518</td>\n",
       "      <td>1.324828</td>\n",
       "      <td>0.309980</td>\n",
       "      <td>192.947084</td>\n",
       "    </tr>\n",
       "  </tbody>\n",
       "</table>\n",
       "</div>"
      ],
      "text/plain": [
       "         ABTN        AWTN       ABW       WII         CAL\n",
       "0  432.673057  330.792098  1.307991  0.320842  168.392790\n",
       "1  436.826178  327.474607  1.333924  0.305026  202.032855\n",
       "2  436.369860  327.621398  1.331933  0.313059  179.412919\n",
       "3  430.096586  324.705526  1.324574  0.312085  181.354553\n",
       "4  429.725772  324.363518  1.324828  0.309980  192.947084"
      ]
     },
     "execution_count": 10,
     "metadata": {},
     "output_type": "execute_result"
    }
   ],
   "source": [
    "df_col_5.head()"
   ]
  },
  {
   "cell_type": "code",
   "execution_count": 28,
   "metadata": {},
   "outputs": [],
   "source": [
    "# Logistic regression Initialization\n",
    "from sklearn.linear_model import LogisticRegression\n",
    "LogReg_clf = LogisticRegression(random_state=0, solver='lbfgs', multi_class='multinomial')"
   ]
  },
  {
   "cell_type": "code",
   "execution_count": 12,
   "metadata": {},
   "outputs": [],
   "source": [
    "# Random Forest Initialization\n",
    "from sklearn.ensemble import RandomForestClassifier\n",
    "RF_clf = RandomForestClassifier(n_estimators=100, max_depth=2, random_state=0)"
   ]
  },
  {
   "cell_type": "code",
   "execution_count": 13,
   "metadata": {},
   "outputs": [],
   "source": [
    "# Storing all the attribute columns in different variables for easy computation\n",
    "X1 = df_col_5['ABTN'].values.reshape(-1,1)\n",
    "X2 = df_col_5['AWTN'].values.reshape(-1,1)\n",
    "X3 = df_col_5['ABW'].values.reshape(-1,1)\n",
    "X4 = df_col_5['WII'].values.reshape(-1,1)\n",
    "X5 = df_col_5['CAL'].values.reshape(-1,1)"
   ]
  },
  {
   "cell_type": "code",
   "execution_count": 14,
   "metadata": {},
   "outputs": [
    {
     "data": {
      "text/plain": [
       "LogisticRegression(C=1.0, class_weight=None, dual=False, fit_intercept=True,\n",
       "          intercept_scaling=1, max_iter=100, multi_class='multinomial',\n",
       "          n_jobs=None, penalty='l2', random_state=0, solver='lbfgs',\n",
       "          tol=0.0001, verbose=0, warm_start=False)"
      ]
     },
     "execution_count": 14,
     "metadata": {},
     "output_type": "execute_result"
    }
   ],
   "source": [
    "# yClass for LogisticRegression(LogReg) and RandomForest(RF)\n",
    "yClass = main_df[target_var]\n",
    "LogReg_clf.fit(X1, yClass)"
   ]
  },
  {
   "cell_type": "code",
   "execution_count": 15,
   "metadata": {},
   "outputs": [
    {
     "data": {
      "text/plain": [
       "RandomForestClassifier(bootstrap=True, class_weight=None, criterion='gini',\n",
       "            max_depth=2, max_features='auto', max_leaf_nodes=None,\n",
       "            min_impurity_decrease=0.0, min_impurity_split=None,\n",
       "            min_samples_leaf=1, min_samples_split=2,\n",
       "            min_weight_fraction_leaf=0.0, n_estimators=100, n_jobs=None,\n",
       "            oob_score=False, random_state=0, verbose=0, warm_start=False)"
      ]
     },
     "execution_count": 15,
     "metadata": {},
     "output_type": "execute_result"
    }
   ],
   "source": [
    "RF_clf.fit(X1, yClass)"
   ]
  },
  {
   "cell_type": "code",
   "execution_count": 16,
   "metadata": {},
   "outputs": [
    {
     "data": {
      "text/plain": [
       "(828,)"
      ]
     },
     "execution_count": 16,
     "metadata": {},
     "output_type": "execute_result"
    }
   ],
   "source": [
    "LogReg_res = LogReg_clf.predict(X1)\n",
    "LogReg_res.shape"
   ]
  },
  {
   "cell_type": "code",
   "execution_count": 19,
   "metadata": {},
   "outputs": [
    {
     "data": {
      "image/png": "[encoded data removed]",
      "text/plain": [
       "<Figure size 432x288 with 1 Axes>"
      ]
     },
     "metadata": {
      "needs_background": "light"
     },
     "output_type": "display_data"
    }
   ],
   "source": [
    "import matplotlib.pyplot as plt\n",
    "%matplotlib inline\n",
    "\n",
    "plt.scatter(X1[:,0], LogReg_res, marker='o', c=yClass)\n",
    "plt.show()"
   ]
  },
  {
   "cell_type": "code",
   "execution_count": 20,
   "metadata": {},
   "outputs": [
    {
     "data": {
      "text/plain": [
       "(828, 100)"
      ]
     },
     "execution_count": 20,
     "metadata": {},
     "output_type": "execute_result"
    }
   ],
   "source": [
    "RF_res = RF_clf.apply(X1)\n",
    "RF_res.shape"
   ]
  },
  {
   "cell_type": "code",
   "execution_count": 21,
   "metadata": {},
   "outputs": [
    {
     "data": {
      "text/plain": [
       "array([5, 6, 5, 5, 5, 6, 5, 6, 6, 5, 6, 5, 5, 5, 6, 6, 6, 5, 5, 5, 5, 6,\n",
       "       5, 6, 5, 5, 5, 5, 5, 6, 5, 6, 6, 5, 5, 6, 5, 5, 6, 5, 6, 6, 5, 6,\n",
       "       5, 5, 5, 5, 5, 6, 6, 6, 5, 6, 5, 5, 6, 5, 5, 6, 5, 6, 5, 5, 5, 6,\n",
       "       5, 5, 6, 6, 5, 6, 5, 5, 6, 6, 5, 5, 6, 5, 5, 6, 6, 5, 5, 5, 6, 5,\n",
       "       6, 5, 5, 5, 5, 5, 5, 6, 5, 6, 6, 5])"
      ]
     },
     "execution_count": 21,
     "metadata": {},
     "output_type": "execute_result"
    }
   ],
   "source": [
    "RF_res[0]"
   ]
  },
  {
   "cell_type": "code",
   "execution_count": 22,
   "metadata": {},
   "outputs": [
    {
     "data": {
      "image/png": "[encoded data removed]",
      "text/plain": [
       "<Figure size 432x288 with 1 Axes>"
      ]
     },
     "metadata": {
      "needs_background": "light"
     },
     "output_type": "display_data"
    }
   ],
   "source": [
    "plt.scatter(X1[:,0], RF_res[:,45], marker='o', c=yClass)\n",
    "plt.show()"
   ]
  },
  {
   "cell_type": "code",
   "execution_count": 124,
   "metadata": {},
   "outputs": [],
   "source": [
    "#Using OneVsRestClassifier as the binary Classifer\n",
    "\n",
    "import numpy as np\n",
    "import matplotlib.pyplot as plt\n",
    "from itertools import cycle\n",
    "\n",
    "from sklearn import svm, datasets\n",
    "from sklearn.metrics import roc_curve, auc\n",
    "from sklearn.metrics import roc_auc_score\n",
    "from sklearn.model_selection import train_test_split\n",
    "from sklearn.preprocessing import label_binarize\n",
    "from sklearn.multiclass import OneVsRestClassifier\n",
    "from scipy import interp\n",
    "\n",
    "# data -> df_col_5\n",
    "# y = targetVar\n",
    "# X = df_col_5.copy(deep=True)\n",
    "y = main_df[target_var]\n",
    "\n",
    "# Binarize the output\n",
    "y = label_binarize(y, classes=[0, 1, 2])\n",
    "n_classes = y.shape[1]"
   ]
  },
  {
   "cell_type": "code",
   "execution_count": 30,
   "metadata": {},
   "outputs": [
    {
     "data": {
      "text/plain": [
       "Index(['fileName', 'indexFile', 'indexDR', 'classNum', 'scoreA', 'scoreM',\n",
       "       'scoreDes', 'ABTN', 'AWTN', 'ABW', 'WII', 'CAL', 'LDA', 'DUNN', 'GAM',\n",
       "       'SIL', 'HM', 'CS', 'DSC', 'CDM 1', 'CDM 2', 'CDM 3', 'CDM 4', 'CDM 5',\n",
       "       'CDM 6', 'CDM 7', 'CDM 8', 'CDM 9', 'CDM 10', 'DC 0.1%', 'DC 0.2%',\n",
       "       'DC 0.5%', 'DC 1%', 'DC 2%', 'DC 5%', 'DC 10%', 'DC 20%', 'HDM 5',\n",
       "       'HDM 10', 'HDM 20', 'HDM 40', 'HDM 80'],\n",
       "      dtype='object')"
      ]
     },
     "execution_count": 30,
     "metadata": {},
     "output_type": "execute_result"
    }
   ],
   "source": [
    "main_df.columns"
   ]
  },
  {
   "cell_type": "code",
   "execution_count": 107,
   "metadata": {},
   "outputs": [],
   "source": [
    "# X1 = df_col_5['ABTN'].values.reshape(-1,1)\n",
    "# X2 = df_col_5['AWTN'].values.reshape(-1,1)\n",
    "# X3 = df_col_5['ABW'].values.reshape(-1,1)\n",
    "# X4 = df_col_5['WII'].values.reshape(-1,1)\n",
    "# X5 = df_col_5['CAL'].values.reshape(-1,1)\n",
    "# y = main_df[target_var]\n",
    "# # Binarize the output\n",
    "# y = label_binarize(y, classes=[0, 1, 2])\n",
    "# n_classes = y.shape[1]\n",
    "\n",
    "auc_dict = []"
   ]
  },
  {
   "cell_type": "code",
   "execution_count": 78,
   "metadata": {},
   "outputs": [
    {
     "data": {
      "text/html": [
       "<div>\n",
       "<style scoped>\n",
       "    .dataframe tbody tr th:only-of-type {\n",
       "        vertical-align: middle;\n",
       "    }\n",
       "\n",
       "    .dataframe tbody tr th {\n",
       "        vertical-align: top;\n",
       "    }\n",
       "\n",
       "    .dataframe thead th {\n",
       "        text-align: right;\n",
       "    }\n",
       "</style>\n",
       "<table border=\"1\" class=\"dataframe\">\n",
       "  <thead>\n",
       "    <tr style=\"text-align: right;\">\n",
       "      <th></th>\n",
       "      <th>indexFile</th>\n",
       "      <th>indexDR</th>\n",
       "      <th>classNum</th>\n",
       "      <th>scoreA</th>\n",
       "      <th>scoreM</th>\n",
       "      <th>scoreDes</th>\n",
       "      <th>ABTN</th>\n",
       "      <th>AWTN</th>\n",
       "      <th>ABW</th>\n",
       "      <th>WII</th>\n",
       "      <th>...</th>\n",
       "      <th>DC 1%</th>\n",
       "      <th>DC 2%</th>\n",
       "      <th>DC 5%</th>\n",
       "      <th>DC 10%</th>\n",
       "      <th>DC 20%</th>\n",
       "      <th>HDM 5</th>\n",
       "      <th>HDM 10</th>\n",
       "      <th>HDM 20</th>\n",
       "      <th>HDM 40</th>\n",
       "      <th>HDM 80</th>\n",
       "    </tr>\n",
       "  </thead>\n",
       "  <tbody>\n",
       "    <tr>\n",
       "      <th>count</th>\n",
       "      <td>828.000000</td>\n",
       "      <td>828.000000</td>\n",
       "      <td>828.00000</td>\n",
       "      <td>828.000000</td>\n",
       "      <td>828.000000</td>\n",
       "      <td>828.000000</td>\n",
       "      <td>828.000000</td>\n",
       "      <td>828.000000</td>\n",
       "      <td>828.000000</td>\n",
       "      <td>828.000000</td>\n",
       "      <td>...</td>\n",
       "      <td>828.000000</td>\n",
       "      <td>828.000000</td>\n",
       "      <td>828.000000</td>\n",
       "      <td>828.000000</td>\n",
       "      <td>828.000000</td>\n",
       "      <td>828.000000</td>\n",
       "      <td>828.000000</td>\n",
       "      <td>828.000000</td>\n",
       "      <td>828.000000</td>\n",
       "      <td>828.000000</td>\n",
       "    </tr>\n",
       "    <tr>\n",
       "      <th>mean</th>\n",
       "      <td>37.751208</td>\n",
       "      <td>2.450483</td>\n",
       "      <td>3.52657</td>\n",
       "      <td>2.979469</td>\n",
       "      <td>2.949275</td>\n",
       "      <td>0.507246</td>\n",
       "      <td>338.962642</td>\n",
       "      <td>270.766188</td>\n",
       "      <td>1.319842</td>\n",
       "      <td>0.319472</td>\n",
       "      <td>...</td>\n",
       "      <td>99.459394</td>\n",
       "      <td>96.553164</td>\n",
       "      <td>85.741579</td>\n",
       "      <td>74.872428</td>\n",
       "      <td>63.634851</td>\n",
       "      <td>71.313912</td>\n",
       "      <td>80.529741</td>\n",
       "      <td>89.152458</td>\n",
       "      <td>95.264410</td>\n",
       "      <td>98.403195</td>\n",
       "    </tr>\n",
       "    <tr>\n",
       "      <th>std</th>\n",
       "      <td>20.766822</td>\n",
       "      <td>1.115446</td>\n",
       "      <td>2.54403</td>\n",
       "      <td>1.631259</td>\n",
       "      <td>1.749717</td>\n",
       "      <td>0.500250</td>\n",
       "      <td>111.231871</td>\n",
       "      <td>78.268813</td>\n",
       "      <td>0.629271</td>\n",
       "      <td>0.289950</td>\n",
       "      <td>...</td>\n",
       "      <td>1.121827</td>\n",
       "      <td>4.953790</td>\n",
       "      <td>13.214279</td>\n",
       "      <td>17.521521</td>\n",
       "      <td>19.729777</td>\n",
       "      <td>19.202670</td>\n",
       "      <td>16.130626</td>\n",
       "      <td>12.025008</td>\n",
       "      <td>6.933171</td>\n",
       "      <td>3.748677</td>\n",
       "    </tr>\n",
       "    <tr>\n",
       "      <th>min</th>\n",
       "      <td>1.000000</td>\n",
       "      <td>1.000000</td>\n",
       "      <td>1.00000</td>\n",
       "      <td>0.000000</td>\n",
       "      <td>0.000000</td>\n",
       "      <td>0.000000</td>\n",
       "      <td>49.310536</td>\n",
       "      <td>38.993885</td>\n",
       "      <td>0.600845</td>\n",
       "      <td>-3.527704</td>\n",
       "      <td>...</td>\n",
       "      <td>87.332331</td>\n",
       "      <td>57.287289</td>\n",
       "      <td>21.619166</td>\n",
       "      <td>10.517643</td>\n",
       "      <td>5.374185</td>\n",
       "      <td>3.658876</td>\n",
       "      <td>12.357476</td>\n",
       "      <td>31.797620</td>\n",
       "      <td>51.107174</td>\n",
       "      <td>53.901868</td>\n",
       "    </tr>\n",
       "    <tr>\n",
       "      <th>25%</th>\n",
       "      <td>16.000000</td>\n",
       "      <td>1.000000</td>\n",
       "      <td>2.00000</td>\n",
       "      <td>1.000000</td>\n",
       "      <td>1.000000</td>\n",
       "      <td>0.000000</td>\n",
       "      <td>275.088871</td>\n",
       "      <td>235.497898</td>\n",
       "      <td>1.015355</td>\n",
       "      <td>0.253168</td>\n",
       "      <td>...</td>\n",
       "      <td>99.374314</td>\n",
       "      <td>95.165531</td>\n",
       "      <td>79.880495</td>\n",
       "      <td>66.123959</td>\n",
       "      <td>52.270991</td>\n",
       "      <td>60.522081</td>\n",
       "      <td>72.438332</td>\n",
       "      <td>84.133503</td>\n",
       "      <td>93.066142</td>\n",
       "      <td>98.247322</td>\n",
       "    </tr>\n",
       "    <tr>\n",
       "      <th>50%</th>\n",
       "      <td>40.000000</td>\n",
       "      <td>3.000000</td>\n",
       "      <td>3.00000</td>\n",
       "      <td>3.000000</td>\n",
       "      <td>3.000000</td>\n",
       "      <td>1.000000</td>\n",
       "      <td>350.604171</td>\n",
       "      <td>286.045767</td>\n",
       "      <td>1.209355</td>\n",
       "      <td>0.372944</td>\n",
       "      <td>...</td>\n",
       "      <td>99.875350</td>\n",
       "      <td>98.675758</td>\n",
       "      <td>88.616953</td>\n",
       "      <td>76.929400</td>\n",
       "      <td>64.001399</td>\n",
       "      <td>72.610273</td>\n",
       "      <td>83.561170</td>\n",
       "      <td>92.835117</td>\n",
       "      <td>97.952218</td>\n",
       "      <td>100.000000</td>\n",
       "    </tr>\n",
       "    <tr>\n",
       "      <th>75%</th>\n",
       "      <td>55.000000</td>\n",
       "      <td>3.000000</td>\n",
       "      <td>5.00000</td>\n",
       "      <td>5.000000</td>\n",
       "      <td>5.000000</td>\n",
       "      <td>1.000000</td>\n",
       "      <td>401.936194</td>\n",
       "      <td>324.972774</td>\n",
       "      <td>1.431921</td>\n",
       "      <td>0.474543</td>\n",
       "      <td>...</td>\n",
       "      <td>100.000000</td>\n",
       "      <td>99.852436</td>\n",
       "      <td>95.800770</td>\n",
       "      <td>87.248803</td>\n",
       "      <td>76.557142</td>\n",
       "      <td>85.641875</td>\n",
       "      <td>93.738713</td>\n",
       "      <td>98.802395</td>\n",
       "      <td>100.000000</td>\n",
       "      <td>100.000000</td>\n",
       "    </tr>\n",
       "    <tr>\n",
       "      <th>max</th>\n",
       "      <td>70.000000</td>\n",
       "      <td>4.000000</td>\n",
       "      <td>13.00000</td>\n",
       "      <td>5.000000</td>\n",
       "      <td>5.000000</td>\n",
       "      <td>1.000000</td>\n",
       "      <td>939.229710</td>\n",
       "      <td>457.396744</td>\n",
       "      <td>9.333784</td>\n",
       "      <td>0.645071</td>\n",
       "      <td>...</td>\n",
       "      <td>100.000000</td>\n",
       "      <td>100.000000</td>\n",
       "      <td>100.000000</td>\n",
       "      <td>100.000000</td>\n",
       "      <td>100.000000</td>\n",
       "      <td>100.000000</td>\n",
       "      <td>100.000000</td>\n",
       "      <td>100.000000</td>\n",
       "      <td>100.000000</td>\n",
       "      <td>100.000000</td>\n",
       "    </tr>\n",
       "  </tbody>\n",
       "</table>\n",
       "<p>8 rows × 41 columns</p>\n",
       "</div>"
      ],
      "text/plain": [
       "        indexFile     indexDR   classNum      scoreA      scoreM    scoreDes  \\\n",
       "count  828.000000  828.000000  828.00000  828.000000  828.000000  828.000000   \n",
       "mean    37.751208    2.450483    3.52657    2.979469    2.949275    0.507246   \n",
       "std     20.766822    1.115446    2.54403    1.631259    1.749717    0.500250   \n",
       "min      1.000000    1.000000    1.00000    0.000000    0.000000    0.000000   \n",
       "25%     16.000000    1.000000    2.00000    1.000000    1.000000    0.000000   \n",
       "50%     40.000000    3.000000    3.00000    3.000000    3.000000    1.000000   \n",
       "75%     55.000000    3.000000    5.00000    5.000000    5.000000    1.000000   \n",
       "max     70.000000    4.000000   13.00000    5.000000    5.000000    1.000000   \n",
       "\n",
       "             ABTN        AWTN         ABW         WII     ...           DC 1%  \\\n",
       "count  828.000000  828.000000  828.000000  828.000000     ...      828.000000   \n",
       "mean   338.962642  270.766188    1.319842    0.319472     ...       99.459394   \n",
       "std    111.231871   78.268813    0.629271    0.289950     ...        1.121827   \n",
       "min     49.310536   38.993885    0.600845   -3.527704     ...       87.332331   \n",
       "25%    275.088871  235.497898    1.015355    0.253168     ...       99.374314   \n",
       "50%    350.604171  286.045767    1.209355    0.372944     ...       99.875350   \n",
       "75%    401.936194  324.972774    1.431921    0.474543     ...      100.000000   \n",
       "max    939.229710  457.396744    9.333784    0.645071     ...      100.000000   \n",
       "\n",
       "            DC 2%       DC 5%      DC 10%      DC 20%       HDM 5      HDM 10  \\\n",
       "count  828.000000  828.000000  828.000000  828.000000  828.000000  828.000000   \n",
       "mean    96.553164   85.741579   74.872428   63.634851   71.313912   80.529741   \n",
       "std      4.953790   13.214279   17.521521   19.729777   19.202670   16.130626   \n",
       "min     57.287289   21.619166   10.517643    5.374185    3.658876   12.357476   \n",
       "25%     95.165531   79.880495   66.123959   52.270991   60.522081   72.438332   \n",
       "50%     98.675758   88.616953   76.929400   64.001399   72.610273   83.561170   \n",
       "75%     99.852436   95.800770   87.248803   76.557142   85.641875   93.738713   \n",
       "max    100.000000  100.000000  100.000000  100.000000  100.000000  100.000000   \n",
       "\n",
       "           HDM 20      HDM 40      HDM 80  \n",
       "count  828.000000  828.000000  828.000000  \n",
       "mean    89.152458   95.264410   98.403195  \n",
       "std     12.025008    6.933171    3.748677  \n",
       "min     31.797620   51.107174   53.901868  \n",
       "25%     84.133503   93.066142   98.247322  \n",
       "50%     92.835117   97.952218  100.000000  \n",
       "75%     98.802395  100.000000  100.000000  \n",
       "max    100.000000  100.000000  100.000000  \n",
       "\n",
       "[8 rows x 41 columns]"
      ]
     },
     "execution_count": 78,
     "metadata": {},
     "output_type": "execute_result"
    }
   ],
   "source": [
    "main_df.describe()"
   ]
  },
  {
   "cell_type": "markdown",
   "metadata": {},
   "source": [
    "# LogisticRegression"
   ]
  },
  {
   "cell_type": "code",
   "execution_count": 119,
   "metadata": {},
   "outputs": [
    {
     "name": "stdout",
     "output_type": "stream",
     "text": [
      "ABTN\n",
      "AWTN\n",
      "ABW\n",
      "WII\n",
      "CAL\n",
      "LDA\n",
      "DUNN\n",
      "GAM\n",
      "SIL\n",
      "HM\n",
      "CS\n",
      "DSC\n",
      "CDM 1\n",
      "CDM 2\n",
      "CDM 3\n",
      "CDM 4\n",
      "CDM 5\n",
      "CDM 6\n",
      "CDM 7\n",
      "CDM 8\n",
      "CDM 9\n",
      "CDM 10\n",
      "DC 0.1%\n",
      "DC 0.2%\n",
      "DC 0.5%\n",
      "DC 1%\n",
      "DC 2%\n",
      "DC 5%\n",
      "DC 10%\n",
      "DC 20%\n",
      "HDM 5\n",
      "HDM 10\n",
      "HDM 20\n",
      "HDM 40\n",
      "HDM 80\n"
     ]
    }
   ],
   "source": [
    "# Logistic regression Initialization\n",
    "from sklearn.linear_model import LogisticRegression\n",
    "LogReg_clf = LogisticRegression(random_state=0, solver='lbfgs', multi_class='multinomial')\n",
    "\n",
    "def logreg_auc(columns):\n",
    "    auc_dict = []\n",
    "    for col in columns:\n",
    "        print(col)\n",
    "        X = main_df[col].values.reshape(-1,1)\n",
    "        X_train, X_test, y_train, y_test = train_test_split(X, yClass, test_size=.5, random_state=0)\n",
    "\n",
    "        LogReg_clf = LogisticRegression(random_state=0, solver='lbfgs', multi_class='multinomial')\n",
    "        LogReg_clf.fit(X_train, y_train)\n",
    "        y_score = LogReg_clf.predict(X_test)\n",
    "\n",
    "        # Compute ROC curve and ROC area\n",
    "        fpr, tpr, _ = roc_curve(y_test, y_score)\n",
    "        roc_auc = auc(fpr, tpr)\n",
    "        auc_dict.append([col, roc_auc])\n",
    "    auc_dict.sort(key=lambda x:x[1], reverse=True)"
   ]
  },
  {
   "cell_type": "code",
   "execution_count": null,
   "metadata": {},
   "outputs": [],
   "source": []
  },
  {
   "cell_type": "code",
   "execution_count": 125,
   "metadata": {},
   "outputs": [
    {
     "data": {
      "text/plain": [
       "0.6528611117596246"
      ]
     },
     "execution_count": 125,
     "metadata": {},
     "output_type": "execute_result"
    }
   ],
   "source": [
    "roc_auc_score(y_test, y_score)"
   ]
  },
  {
   "cell_type": "code",
   "execution_count": 120,
   "metadata": {},
   "outputs": [
    {
     "data": {
      "text/plain": [
       "[['HM', 0.8154226881143044],\n",
       " ['DSC', 0.8139635327901384],\n",
       " ['CAL', 0.7977727453131931],\n",
       " ['WII', 0.7963252632316205],\n",
       " ['SIL', 0.7912824224313031],\n",
       " ['HM', 0.7893563374034039],\n",
       " ['LDA', 0.7893446641608106],\n",
       " ['GAM', 0.7856092265309458],\n",
       " ['ABTN', 0.7711344057152196],\n",
       " ['CS', 0.77057409007074],\n",
       " ['WII', 0.769336726355847],\n",
       " ['ABW', 0.7681460556113278],\n",
       " ['SIL', 0.7681227091261411],\n",
       " ['DSC', 0.7626362851072771],\n",
       " ['HDM 10', 0.7624728597109706],\n",
       " ['HDM 5', 0.7622160483739173],\n",
       " ['GAM', 0.7611070903275512],\n",
       " ['CDM 4', 0.7597646674293186],\n",
       " ['CDM 3', 0.7595778955478254],\n",
       " ['DC 10%', 0.757570097821773],\n",
       " ['ABW', 0.7574883851236196],\n",
       " ['CDM 5', 0.7454299255247122],\n",
       " ['CDM 6', 0.7379123572946094],\n",
       " ['LDA', 0.7365349146685967],\n",
       " ['CAL', 0.7316088062942124],\n",
       " ['CDM 7', 0.7311885695608527],\n",
       " ['CDM 10', 0.7287838815866271],\n",
       " ['CDM 8', 0.727639903812481],\n",
       " ['CDM 4', 0.7263441738846217],\n",
       " ['CDM 9', 0.7256787990568021],\n",
       " ['CDM 3', 0.719048397263792],\n",
       " ['CDM 2', 0.7177643405785259],\n",
       " ['CS', 0.7172390446618262],\n",
       " ['DC 5%', 0.7159433147339669],\n",
       " ['CDM 5', 0.7097564961595032],\n",
       " ['HDM 5', 0.707293441972311],\n",
       " ['CDM 9', 0.7049237737258656],\n",
       " ['CDM 6', 0.7048303877851191],\n",
       " ['CDM 8', 0.7048303877851191],\n",
       " ['CDM 7', 0.7047370018443722],\n",
       " ['HDM 20', 0.7016319193145473],\n",
       " ['CDM 2', 0.6923283449676652],\n",
       " ['CDM 10', 0.6905189923656992],\n",
       " ['ABTN', 0.6890248173137534],\n",
       " ['HDM 40', 0.6867251885228679],\n",
       " ['DC 10%', 0.6829430579226297],\n",
       " ['HDM 10', 0.6798263021502112],\n",
       " ['DC 20%', 0.673581117362781],\n",
       " ['HDM 40', 0.6689468400532299],\n",
       " ['HDM 80', 0.6560245605024163],\n",
       " ['HDM 80', 0.6528611117596246],\n",
       " ['HDM 20', 0.6478065977167138],\n",
       " ['DC 2%', 0.6389232601031914],\n",
       " ['DUNN', 0.6332850839306143],\n",
       " ['DC 5%', 0.6312189199915953],\n",
       " ['DC 1%', 0.6254640113930847],\n",
       " ['DC 0.5%', 0.6201760324983073],\n",
       " ['CDM 1', 0.6156468143720962],\n",
       " ['DC 20%', 0.6130086615460042],\n",
       " ['DC 0.2%', 0.6081642658697732],\n",
       " ['DC 2%', 0.6008217962785702],\n",
       " ['CDM 1', 0.5949268087689398],\n",
       " ['DC 1%', 0.5806504330773001],\n",
       " ['DUNN', 0.5692573483062124],\n",
       " ['AWTN', 0.5634090537669554],\n",
       " ['DC 0.1%', 0.5598603880185838],\n",
       " ['AWTN', 0.5285644246258725],\n",
       " ['DC 0.1%', 0.5],\n",
       " ['DC 0.2%', 0.5],\n",
       " ['DC 0.5%', 0.5]]"
      ]
     },
     "execution_count": 120,
     "metadata": {},
     "output_type": "execute_result"
    }
   ],
   "source": [
    "auc_dict"
   ]
  },
  {
   "cell_type": "code",
   "execution_count": 108,
   "metadata": {},
   "outputs": [
    {
     "name": "stdout",
     "output_type": "stream",
     "text": [
      "ABTN\n"
     ]
    },
    {
     "name": "stderr",
     "output_type": "stream",
     "text": [
      "/anaconda3/lib/python3.7/site-packages/sklearn/multiclass.py:76: UserWarning: Label not 2 is present in all training examples.\n",
      "  str(classes[c]))\n",
      "/anaconda3/lib/python3.7/site-packages/sklearn/metrics/ranking.py:651: UndefinedMetricWarning: No positive samples in y_true, true positive value should be meaningless\n",
      "  UndefinedMetricWarning)\n"
     ]
    },
    {
     "name": "stdout",
     "output_type": "stream",
     "text": [
      "AWTN\n"
     ]
    },
    {
     "name": "stderr",
     "output_type": "stream",
     "text": [
      "/anaconda3/lib/python3.7/site-packages/sklearn/multiclass.py:76: UserWarning: Label not 2 is present in all training examples.\n",
      "  str(classes[c]))\n",
      "/anaconda3/lib/python3.7/site-packages/sklearn/metrics/ranking.py:651: UndefinedMetricWarning: No positive samples in y_true, true positive value should be meaningless\n",
      "  UndefinedMetricWarning)\n",
      "/anaconda3/lib/python3.7/site-packages/sklearn/multiclass.py:76: UserWarning: Label not 2 is present in all training examples.\n",
      "  str(classes[c]))\n",
      "/anaconda3/lib/python3.7/site-packages/sklearn/metrics/ranking.py:651: UndefinedMetricWarning: No positive samples in y_true, true positive value should be meaningless\n",
      "  UndefinedMetricWarning)\n",
      "/anaconda3/lib/python3.7/site-packages/sklearn/multiclass.py:76: UserWarning: Label not 2 is present in all training examples.\n",
      "  str(classes[c]))\n",
      "/anaconda3/lib/python3.7/site-packages/sklearn/metrics/ranking.py:651: UndefinedMetricWarning: No positive samples in y_true, true positive value should be meaningless\n",
      "  UndefinedMetricWarning)\n"
     ]
    },
    {
     "name": "stdout",
     "output_type": "stream",
     "text": [
      "ABW\n",
      "WII\n",
      "CAL\n"
     ]
    },
    {
     "name": "stderr",
     "output_type": "stream",
     "text": [
      "/anaconda3/lib/python3.7/site-packages/sklearn/multiclass.py:76: UserWarning: Label not 2 is present in all training examples.\n",
      "  str(classes[c]))\n",
      "/anaconda3/lib/python3.7/site-packages/sklearn/metrics/ranking.py:651: UndefinedMetricWarning: No positive samples in y_true, true positive value should be meaningless\n",
      "  UndefinedMetricWarning)\n",
      "/anaconda3/lib/python3.7/site-packages/sklearn/multiclass.py:76: UserWarning: Label not 2 is present in all training examples.\n",
      "  str(classes[c]))\n",
      "/anaconda3/lib/python3.7/site-packages/sklearn/metrics/ranking.py:651: UndefinedMetricWarning: No positive samples in y_true, true positive value should be meaningless\n",
      "  UndefinedMetricWarning)\n",
      "/anaconda3/lib/python3.7/site-packages/sklearn/multiclass.py:76: UserWarning: Label not 2 is present in all training examples.\n",
      "  str(classes[c]))\n",
      "/anaconda3/lib/python3.7/site-packages/sklearn/metrics/ranking.py:651: UndefinedMetricWarning: No positive samples in y_true, true positive value should be meaningless\n",
      "  UndefinedMetricWarning)\n",
      "/anaconda3/lib/python3.7/site-packages/sklearn/multiclass.py:76: UserWarning: Label not 2 is present in all training examples.\n",
      "  str(classes[c]))\n",
      "/anaconda3/lib/python3.7/site-packages/sklearn/metrics/ranking.py:651: UndefinedMetricWarning: No positive samples in y_true, true positive value should be meaningless\n",
      "  UndefinedMetricWarning)\n",
      "/anaconda3/lib/python3.7/site-packages/sklearn/multiclass.py:76: UserWarning: Label not 2 is present in all training examples.\n",
      "  str(classes[c]))\n",
      "/anaconda3/lib/python3.7/site-packages/sklearn/metrics/ranking.py:651: UndefinedMetricWarning: No positive samples in y_true, true positive value should be meaningless\n",
      "  UndefinedMetricWarning)\n",
      "/anaconda3/lib/python3.7/site-packages/sklearn/multiclass.py:76: UserWarning: Label not 2 is present in all training examples.\n",
      "  str(classes[c]))\n",
      "/anaconda3/lib/python3.7/site-packages/sklearn/metrics/ranking.py:651: UndefinedMetricWarning: No positive samples in y_true, true positive value should be meaningless\n",
      "  UndefinedMetricWarning)\n",
      "/anaconda3/lib/python3.7/site-packages/sklearn/multiclass.py:76: UserWarning: Label not 2 is present in all training examples.\n",
      "  str(classes[c]))\n",
      "/anaconda3/lib/python3.7/site-packages/sklearn/metrics/ranking.py:651: UndefinedMetricWarning: No positive samples in y_true, true positive value should be meaningless\n",
      "  UndefinedMetricWarning)\n"
     ]
    },
    {
     "name": "stdout",
     "output_type": "stream",
     "text": [
      "LDA\n",
      "DUNN\n",
      "GAM\n",
      "SIL\n",
      "HM\n",
      "CS\n",
      "DSC\n"
     ]
    },
    {
     "name": "stderr",
     "output_type": "stream",
     "text": [
      "/anaconda3/lib/python3.7/site-packages/sklearn/multiclass.py:76: UserWarning: Label not 2 is present in all training examples.\n",
      "  str(classes[c]))\n",
      "/anaconda3/lib/python3.7/site-packages/sklearn/metrics/ranking.py:651: UndefinedMetricWarning: No positive samples in y_true, true positive value should be meaningless\n",
      "  UndefinedMetricWarning)\n",
      "/anaconda3/lib/python3.7/site-packages/sklearn/multiclass.py:76: UserWarning: Label not 2 is present in all training examples.\n",
      "  str(classes[c]))\n",
      "/anaconda3/lib/python3.7/site-packages/sklearn/metrics/ranking.py:651: UndefinedMetricWarning: No positive samples in y_true, true positive value should be meaningless\n",
      "  UndefinedMetricWarning)\n"
     ]
    },
    {
     "name": "stdout",
     "output_type": "stream",
     "text": [
      "CDM 1\n",
      "CDM 2\n"
     ]
    },
    {
     "name": "stderr",
     "output_type": "stream",
     "text": [
      "/anaconda3/lib/python3.7/site-packages/sklearn/multiclass.py:76: UserWarning: Label not 2 is present in all training examples.\n",
      "  str(classes[c]))\n",
      "/anaconda3/lib/python3.7/site-packages/sklearn/metrics/ranking.py:651: UndefinedMetricWarning: No positive samples in y_true, true positive value should be meaningless\n",
      "  UndefinedMetricWarning)\n"
     ]
    },
    {
     "name": "stdout",
     "output_type": "stream",
     "text": [
      "CDM 3\n"
     ]
    },
    {
     "name": "stderr",
     "output_type": "stream",
     "text": [
      "/anaconda3/lib/python3.7/site-packages/sklearn/multiclass.py:76: UserWarning: Label not 2 is present in all training examples.\n",
      "  str(classes[c]))\n",
      "/anaconda3/lib/python3.7/site-packages/sklearn/metrics/ranking.py:651: UndefinedMetricWarning: No positive samples in y_true, true positive value should be meaningless\n",
      "  UndefinedMetricWarning)\n"
     ]
    },
    {
     "name": "stdout",
     "output_type": "stream",
     "text": [
      "CDM 4\n"
     ]
    },
    {
     "name": "stderr",
     "output_type": "stream",
     "text": [
      "/anaconda3/lib/python3.7/site-packages/sklearn/multiclass.py:76: UserWarning: Label not 2 is present in all training examples.\n",
      "  str(classes[c]))\n",
      "/anaconda3/lib/python3.7/site-packages/sklearn/metrics/ranking.py:651: UndefinedMetricWarning: No positive samples in y_true, true positive value should be meaningless\n",
      "  UndefinedMetricWarning)\n"
     ]
    },
    {
     "name": "stdout",
     "output_type": "stream",
     "text": [
      "CDM 5\n"
     ]
    },
    {
     "name": "stderr",
     "output_type": "stream",
     "text": [
      "/anaconda3/lib/python3.7/site-packages/sklearn/multiclass.py:76: UserWarning: Label not 2 is present in all training examples.\n",
      "  str(classes[c]))\n",
      "/anaconda3/lib/python3.7/site-packages/sklearn/metrics/ranking.py:651: UndefinedMetricWarning: No positive samples in y_true, true positive value should be meaningless\n",
      "  UndefinedMetricWarning)\n"
     ]
    },
    {
     "name": "stdout",
     "output_type": "stream",
     "text": [
      "CDM 6\n"
     ]
    },
    {
     "name": "stderr",
     "output_type": "stream",
     "text": [
      "/anaconda3/lib/python3.7/site-packages/sklearn/multiclass.py:76: UserWarning: Label not 2 is present in all training examples.\n",
      "  str(classes[c]))\n",
      "/anaconda3/lib/python3.7/site-packages/sklearn/metrics/ranking.py:651: UndefinedMetricWarning: No positive samples in y_true, true positive value should be meaningless\n",
      "  UndefinedMetricWarning)\n"
     ]
    },
    {
     "name": "stdout",
     "output_type": "stream",
     "text": [
      "CDM 7\n"
     ]
    },
    {
     "name": "stderr",
     "output_type": "stream",
     "text": [
      "/anaconda3/lib/python3.7/site-packages/sklearn/multiclass.py:76: UserWarning: Label not 2 is present in all training examples.\n",
      "  str(classes[c]))\n",
      "/anaconda3/lib/python3.7/site-packages/sklearn/metrics/ranking.py:651: UndefinedMetricWarning: No positive samples in y_true, true positive value should be meaningless\n",
      "  UndefinedMetricWarning)\n"
     ]
    },
    {
     "name": "stdout",
     "output_type": "stream",
     "text": [
      "CDM 8\n"
     ]
    },
    {
     "name": "stderr",
     "output_type": "stream",
     "text": [
      "/anaconda3/lib/python3.7/site-packages/sklearn/multiclass.py:76: UserWarning: Label not 2 is present in all training examples.\n",
      "  str(classes[c]))\n",
      "/anaconda3/lib/python3.7/site-packages/sklearn/metrics/ranking.py:651: UndefinedMetricWarning: No positive samples in y_true, true positive value should be meaningless\n",
      "  UndefinedMetricWarning)\n"
     ]
    },
    {
     "name": "stdout",
     "output_type": "stream",
     "text": [
      "CDM 9\n"
     ]
    },
    {
     "name": "stderr",
     "output_type": "stream",
     "text": [
      "/anaconda3/lib/python3.7/site-packages/sklearn/multiclass.py:76: UserWarning: Label not 2 is present in all training examples.\n",
      "  str(classes[c]))\n",
      "/anaconda3/lib/python3.7/site-packages/sklearn/metrics/ranking.py:651: UndefinedMetricWarning: No positive samples in y_true, true positive value should be meaningless\n",
      "  UndefinedMetricWarning)\n"
     ]
    },
    {
     "name": "stdout",
     "output_type": "stream",
     "text": [
      "CDM 10\n"
     ]
    },
    {
     "name": "stderr",
     "output_type": "stream",
     "text": [
      "/anaconda3/lib/python3.7/site-packages/sklearn/multiclass.py:76: UserWarning: Label not 2 is present in all training examples.\n",
      "  str(classes[c]))\n",
      "/anaconda3/lib/python3.7/site-packages/sklearn/metrics/ranking.py:651: UndefinedMetricWarning: No positive samples in y_true, true positive value should be meaningless\n",
      "  UndefinedMetricWarning)\n",
      "/anaconda3/lib/python3.7/site-packages/sklearn/multiclass.py:76: UserWarning: Label not 2 is present in all training examples.\n",
      "  str(classes[c]))\n",
      "/anaconda3/lib/python3.7/site-packages/sklearn/metrics/ranking.py:651: UndefinedMetricWarning: No positive samples in y_true, true positive value should be meaningless\n",
      "  UndefinedMetricWarning)\n",
      "/anaconda3/lib/python3.7/site-packages/sklearn/multiclass.py:76: UserWarning: Label not 2 is present in all training examples.\n",
      "  str(classes[c]))\n",
      "/anaconda3/lib/python3.7/site-packages/sklearn/metrics/ranking.py:651: UndefinedMetricWarning: No positive samples in y_true, true positive value should be meaningless\n",
      "  UndefinedMetricWarning)\n",
      "/anaconda3/lib/python3.7/site-packages/sklearn/multiclass.py:76: UserWarning: Label not 2 is present in all training examples.\n",
      "  str(classes[c]))\n",
      "/anaconda3/lib/python3.7/site-packages/sklearn/metrics/ranking.py:651: UndefinedMetricWarning: No positive samples in y_true, true positive value should be meaningless\n",
      "  UndefinedMetricWarning)\n",
      "/anaconda3/lib/python3.7/site-packages/sklearn/multiclass.py:76: UserWarning: Label not 2 is present in all training examples.\n",
      "  str(classes[c]))\n",
      "/anaconda3/lib/python3.7/site-packages/sklearn/metrics/ranking.py:651: UndefinedMetricWarning: No positive samples in y_true, true positive value should be meaningless\n",
      "  UndefinedMetricWarning)\n",
      "/anaconda3/lib/python3.7/site-packages/sklearn/multiclass.py:76: UserWarning: Label not 2 is present in all training examples.\n",
      "  str(classes[c]))\n",
      "/anaconda3/lib/python3.7/site-packages/sklearn/metrics/ranking.py:651: UndefinedMetricWarning: No positive samples in y_true, true positive value should be meaningless\n",
      "  UndefinedMetricWarning)\n"
     ]
    },
    {
     "name": "stdout",
     "output_type": "stream",
     "text": [
      "DC 0.1%\n",
      "DC 0.2%\n",
      "DC 0.5%\n",
      "DC 1%\n",
      "DC 2%\n",
      "DC 5%\n"
     ]
    },
    {
     "name": "stderr",
     "output_type": "stream",
     "text": [
      "/anaconda3/lib/python3.7/site-packages/sklearn/multiclass.py:76: UserWarning: Label not 2 is present in all training examples.\n",
      "  str(classes[c]))\n",
      "/anaconda3/lib/python3.7/site-packages/sklearn/metrics/ranking.py:651: UndefinedMetricWarning: No positive samples in y_true, true positive value should be meaningless\n",
      "  UndefinedMetricWarning)\n",
      "/anaconda3/lib/python3.7/site-packages/sklearn/multiclass.py:76: UserWarning: Label not 2 is present in all training examples.\n",
      "  str(classes[c]))\n",
      "/anaconda3/lib/python3.7/site-packages/sklearn/metrics/ranking.py:651: UndefinedMetricWarning: No positive samples in y_true, true positive value should be meaningless\n",
      "  UndefinedMetricWarning)\n"
     ]
    },
    {
     "name": "stdout",
     "output_type": "stream",
     "text": [
      "DC 10%\n",
      "DC 20%\n"
     ]
    },
    {
     "name": "stderr",
     "output_type": "stream",
     "text": [
      "/anaconda3/lib/python3.7/site-packages/sklearn/multiclass.py:76: UserWarning: Label not 2 is present in all training examples.\n",
      "  str(classes[c]))\n",
      "/anaconda3/lib/python3.7/site-packages/sklearn/metrics/ranking.py:651: UndefinedMetricWarning: No positive samples in y_true, true positive value should be meaningless\n",
      "  UndefinedMetricWarning)\n"
     ]
    },
    {
     "name": "stdout",
     "output_type": "stream",
     "text": [
      "HDM 5\n"
     ]
    },
    {
     "name": "stderr",
     "output_type": "stream",
     "text": [
      "/anaconda3/lib/python3.7/site-packages/sklearn/multiclass.py:76: UserWarning: Label not 2 is present in all training examples.\n",
      "  str(classes[c]))\n",
      "/anaconda3/lib/python3.7/site-packages/sklearn/metrics/ranking.py:651: UndefinedMetricWarning: No positive samples in y_true, true positive value should be meaningless\n",
      "  UndefinedMetricWarning)\n",
      "/anaconda3/lib/python3.7/site-packages/sklearn/multiclass.py:76: UserWarning: Label not 2 is present in all training examples.\n",
      "  str(classes[c]))\n",
      "/anaconda3/lib/python3.7/site-packages/sklearn/metrics/ranking.py:651: UndefinedMetricWarning: No positive samples in y_true, true positive value should be meaningless\n",
      "  UndefinedMetricWarning)\n"
     ]
    },
    {
     "name": "stdout",
     "output_type": "stream",
     "text": [
      "HDM 10\n",
      "HDM 20\n",
      "HDM 40\n",
      "HDM 80\n"
     ]
    },
    {
     "name": "stderr",
     "output_type": "stream",
     "text": [
      "/anaconda3/lib/python3.7/site-packages/sklearn/multiclass.py:76: UserWarning: Label not 2 is present in all training examples.\n",
      "  str(classes[c]))\n",
      "/anaconda3/lib/python3.7/site-packages/sklearn/metrics/ranking.py:651: UndefinedMetricWarning: No positive samples in y_true, true positive value should be meaningless\n",
      "  UndefinedMetricWarning)\n",
      "/anaconda3/lib/python3.7/site-packages/sklearn/multiclass.py:76: UserWarning: Label not 2 is present in all training examples.\n",
      "  str(classes[c]))\n",
      "/anaconda3/lib/python3.7/site-packages/sklearn/metrics/ranking.py:651: UndefinedMetricWarning: No positive samples in y_true, true positive value should be meaningless\n",
      "  UndefinedMetricWarning)\n",
      "/anaconda3/lib/python3.7/site-packages/sklearn/multiclass.py:76: UserWarning: Label not 2 is present in all training examples.\n",
      "  str(classes[c]))\n",
      "/anaconda3/lib/python3.7/site-packages/sklearn/metrics/ranking.py:651: UndefinedMetricWarning: No positive samples in y_true, true positive value should be meaningless\n",
      "  UndefinedMetricWarning)\n"
     ]
    }
   ],
   "source": [
    "# for col in main_df.columns:\n",
    "# shuffle and split training and test sets\n",
    "for col in measure_cols:\n",
    "    print(col)\n",
    "    X = main_df[col].values.reshape(-1,1)\n",
    "    X_train, X_test, y_train, y_test = train_test_split(X, y, test_size=.5, random_state=0)\n",
    "\n",
    "\n",
    "    random_state = np.random.RandomState(0)\n",
    "    # Learn to predict each class against the other\n",
    "    classifier = OneVsRestClassifier(svm.SVC(kernel='linear', probability=True, random_state=random_state))\n",
    "    y_score = classifier.fit(X_train, y_train).decision_function(X_test)\n",
    "\n",
    "    # Compute ROC curve and ROC area for each class\n",
    "    fpr = dict()\n",
    "    tpr = dict()\n",
    "    roc_auc = dict()\n",
    "    for i in range(n_classes):\n",
    "        fpr[i], tpr[i], _ = roc_curve(y_test[:, i], y_score[:, i])\n",
    "        roc_auc[i] = auc(fpr[i], tpr[i])\n",
    "\n",
    "    # Compute micro-average ROC curve and ROC area\n",
    "    fpr[\"micro\"], tpr[\"micro\"], _ = roc_curve(y_test.ravel(), y_score.ravel())\n",
    "    roc_auc[\"micro\"] = auc(fpr[\"micro\"], tpr[\"micro\"])\n",
    "    auc_dict.append([col, roc_auc[1]])"
   ]
  },
  {
   "cell_type": "code",
   "execution_count": 115,
   "metadata": {},
   "outputs": [],
   "source": [
    "auc_dict.sort(key=lambda x:x[1], reverse=True)"
   ]
  },
  {
   "cell_type": "code",
   "execution_count": 116,
   "metadata": {},
   "outputs": [
    {
     "data": {
      "text/plain": [
       "[['HM', 0.8154226881143044],\n",
       " ['DSC', 0.8139635327901384],\n",
       " ['CAL', 0.7977727453131931],\n",
       " ['WII', 0.7963252632316205],\n",
       " ['SIL', 0.7912824224313031],\n",
       " ['LDA', 0.7893446641608106],\n",
       " ['GAM', 0.7856092265309458],\n",
       " ['ABTN', 0.7711344057152196],\n",
       " ['CS', 0.77057409007074],\n",
       " ['ABW', 0.7681460556113278],\n",
       " ['HDM 10', 0.7624728597109706],\n",
       " ['HDM 5', 0.7622160483739173],\n",
       " ['CDM 4', 0.7597646674293186],\n",
       " ['CDM 3', 0.7595778955478254],\n",
       " ['DC 10%', 0.757570097821773],\n",
       " ['CDM 5', 0.7454299255247122],\n",
       " ['CDM 6', 0.7379123572946094],\n",
       " ['CDM 7', 0.7311885695608527],\n",
       " ['CDM 10', 0.7287838815866271],\n",
       " ['CDM 8', 0.727639903812481],\n",
       " ['CDM 9', 0.7256787990568021],\n",
       " ['CDM 2', 0.7177643405785259],\n",
       " ['DC 5%', 0.7159433147339669],\n",
       " ['HDM 20', 0.7016319193145473],\n",
       " ['HDM 40', 0.6867251885228679],\n",
       " ['DC 20%', 0.673581117362781],\n",
       " ['HDM 80', 0.6560245605024163],\n",
       " ['DC 2%', 0.6389232601031914],\n",
       " ['DUNN', 0.6332850839306143],\n",
       " ['DC 1%', 0.6254640113930847],\n",
       " ['DC 0.5%', 0.6201760324983073],\n",
       " ['CDM 1', 0.6156468143720962],\n",
       " ['DC 0.2%', 0.6081642658697732],\n",
       " ['DC 0.1%', 0.5598603880185838],\n",
       " ['AWTN', 0.5285644246258725]]"
      ]
     },
     "execution_count": 116,
     "metadata": {},
     "output_type": "execute_result"
    }
   ],
   "source": [
    "auc_dict"
   ]
  },
  {
   "cell_type": "code",
   "execution_count": 101,
   "metadata": {},
   "outputs": [],
   "source": [
    "aa.sort(reverse=True)"
   ]
  },
  {
   "cell_type": "code",
   "execution_count": 102,
   "metadata": {},
   "outputs": [
    {
     "data": {
      "text/plain": [
       "[0.8154226881143044,\n",
       " 0.8139635327901384,\n",
       " 0.7977727453131931,\n",
       " 0.7963252632316205,\n",
       " 0.7912824224313031,\n",
       " 0.7893446641608106,\n",
       " 0.7856092265309458,\n",
       " 0.7711344057152196,\n",
       " 0.77057409007074,\n",
       " 0.7681460556113278,\n",
       " 0.7624728597109706,\n",
       " 0.7622160483739173,\n",
       " 0.7597646674293186,\n",
       " 0.7595778955478254,\n",
       " 0.757570097821773,\n",
       " 0.7454299255247122,\n",
       " 0.7379123572946094,\n",
       " 0.7311885695608527,\n",
       " 0.7287838815866271,\n",
       " 0.727639903812481,\n",
       " 0.7256787990568021,\n",
       " 0.7177643405785259,\n",
       " 0.7159433147339669,\n",
       " 0.7016319193145473,\n",
       " 0.6867251885228679,\n",
       " 0.673581117362781,\n",
       " 0.6560245605024163,\n",
       " 0.6389232601031914,\n",
       " 0.6332850839306143,\n",
       " 0.6254640113930847,\n",
       " 0.6201760324983073,\n",
       " 0.6156468143720962,\n",
       " 0.6081642658697732,\n",
       " 0.5598603880185838,\n",
       " 0.5285644246258725]"
      ]
     },
     "execution_count": 102,
     "metadata": {},
     "output_type": "execute_result"
    }
   ],
   "source": [
    "aa"
   ]
  },
  {
   "cell_type": "code",
   "execution_count": null,
   "metadata": {},
   "outputs": [],
   "source": []
  },
  {
   "cell_type": "code",
   "execution_count": null,
   "metadata": {},
   "outputs": [],
   "source": []
  },
  {
   "cell_type": "code",
   "execution_count": null,
   "metadata": {},
   "outputs": [],
   "source": []
  },
  {
   "cell_type": "code",
   "execution_count": 69,
   "metadata": {},
   "outputs": [
    {
     "name": "stderr",
     "output_type": "stream",
     "text": [
      "/anaconda3/lib/python3.7/site-packages/sklearn/multiclass.py:76: UserWarning: Label not 2 is present in all training examples.\n",
      "  str(classes[c]))\n"
     ]
    },
    {
     "ename": "TypeError",
     "evalue": "'dict' object is not callable",
     "output_type": "error",
     "traceback": [
      "\u001b[0;31m---------------------------------------------------------------------------\u001b[0m",
      "\u001b[0;31mTypeError\u001b[0m                                 Traceback (most recent call last)",
      "\u001b[0;32m<ipython-input-69-398f1c51dc6d>\u001b[0m in \u001b[0;36m<module>\u001b[0;34m()\u001b[0m\n\u001b[1;32m     20\u001b[0m \u001b[0;32mfor\u001b[0m \u001b[0mi\u001b[0m \u001b[0;32min\u001b[0m \u001b[0mrange\u001b[0m\u001b[0;34m(\u001b[0m\u001b[0mn_classes\u001b[0m\u001b[0;34m)\u001b[0m\u001b[0;34m:\u001b[0m\u001b[0;34m\u001b[0m\u001b[0;34m\u001b[0m\u001b[0m\n\u001b[1;32m     21\u001b[0m     \u001b[0mfpr\u001b[0m\u001b[0;34m[\u001b[0m\u001b[0mi\u001b[0m\u001b[0;34m]\u001b[0m\u001b[0;34m,\u001b[0m \u001b[0mtpr\u001b[0m\u001b[0;34m[\u001b[0m\u001b[0mi\u001b[0m\u001b[0;34m]\u001b[0m\u001b[0;34m,\u001b[0m \u001b[0m_\u001b[0m \u001b[0;34m=\u001b[0m \u001b[0mroc_curve\u001b[0m\u001b[0;34m(\u001b[0m\u001b[0my_test\u001b[0m\u001b[0;34m[\u001b[0m\u001b[0;34m:\u001b[0m\u001b[0;34m,\u001b[0m \u001b[0mi\u001b[0m\u001b[0;34m]\u001b[0m\u001b[0;34m,\u001b[0m \u001b[0my_score\u001b[0m\u001b[0;34m[\u001b[0m\u001b[0;34m:\u001b[0m\u001b[0;34m,\u001b[0m \u001b[0mi\u001b[0m\u001b[0;34m]\u001b[0m\u001b[0;34m)\u001b[0m\u001b[0;34m\u001b[0m\u001b[0;34m\u001b[0m\u001b[0m\n\u001b[0;32m---> 22\u001b[0;31m     \u001b[0mroc_auc\u001b[0m\u001b[0;34m[\u001b[0m\u001b[0mi\u001b[0m\u001b[0;34m]\u001b[0m \u001b[0;34m=\u001b[0m \u001b[0mauc\u001b[0m\u001b[0;34m(\u001b[0m\u001b[0mfpr\u001b[0m\u001b[0;34m[\u001b[0m\u001b[0mi\u001b[0m\u001b[0;34m]\u001b[0m\u001b[0;34m,\u001b[0m \u001b[0mtpr\u001b[0m\u001b[0;34m[\u001b[0m\u001b[0mi\u001b[0m\u001b[0;34m]\u001b[0m\u001b[0;34m)\u001b[0m\u001b[0;34m\u001b[0m\u001b[0;34m\u001b[0m\u001b[0m\n\u001b[0m\u001b[1;32m     23\u001b[0m \u001b[0;34m\u001b[0m\u001b[0m\n\u001b[1;32m     24\u001b[0m \u001b[0;31m# Compute micro-average ROC curve and ROC area\u001b[0m\u001b[0;34m\u001b[0m\u001b[0;34m\u001b[0m\u001b[0;34m\u001b[0m\u001b[0m\n",
      "\u001b[0;31mTypeError\u001b[0m: 'dict' object is not callable"
     ]
    }
   ],
   "source": [
    "##\n",
    "# Using X5 CAL in this cell for calculating\n",
    "# ROC area\n",
    "#\n",
    "\n",
    "# shuffle and split training and test sets\n",
    "X_train, X_test, y_train, y_test = train_test_split(X5, y, test_size=.5, random_state=0)\n",
    "\n",
    "\n",
    "random_state = np.random.RandomState(0)\n",
    "# Learn to predict each class against the other\n",
    "classifier = OneVsRestClassifier(svm.SVC(kernel='linear', probability=True, random_state=random_state))\n",
    "y_score = classifier.fit(X_train, y_train).decision_function(X_test)\n",
    "# LogReg_res.fit(X_train, y_train)\n",
    "\n",
    "# Compute ROC curve and ROC area for each class\n",
    "fpr = dict()\n",
    "tpr = dict()\n",
    "roc_auc = dict()\n",
    "for i in range(n_classes):\n",
    "    fpr[i], tpr[i], _ = roc_curve(y_test[:, i], y_score[:, i])\n",
    "    roc_auc[i] = auc(fpr[i], tpr[i])\n",
    "\n",
    "# Compute micro-average ROC curve and ROC area\n",
    "fpr[\"micro\"], tpr[\"micro\"], _ = roc_curve(y_test.ravel(), y_score.ravel())\n",
    "roc_auc[\"micro\"] = auc(fpr[\"micro\"], tpr[\"micro\"])\n",
    "\n",
    "plt.figure()\n",
    "lw = 2\n",
    "plt.plot(fpr[1], tpr[1], color='darkorange',\n",
    "         lw=lw, label='ROC curve (area = %0.2f)' % roc_auc[1])\n",
    "plt.plot([0, 1], [0, 1], color='navy', lw=lw, linestyle='--')\n",
    "plt.xlim([0.0, 1.0])\n",
    "plt.ylim([0.0, 1.05])\n",
    "plt.title('CAL')\n",
    "plt.legend(loc=\"lower right\")\n",
    "plt.show()"
   ]
  },
  {
   "cell_type": "code",
   "execution_count": 54,
   "metadata": {},
   "outputs": [
    {
     "data": {
      "text/plain": [
       "array([ 3.91621956e+00, -6.25119117e-01,  3.05883848e+00,  3.39206659e+00,\n",
       "       -7.97642953e-01,  2.21812000e+00, -8.98782047e-01, -1.07045158e+00,\n",
       "       -8.32835356e-01, -9.94907006e-01, -7.53541418e-01, -1.61473133e-01,\n",
       "        6.93675215e-01, -1.06653806e+00, -1.06691952e+00, -1.04808093e+00,\n",
       "        1.37302618e+00, -1.07203465e+00, -2.00233421e-02, -1.03006940e+00,\n",
       "       -1.04759012e+00, -9.33279731e-01,  2.03275618e+00,  3.77260501e+00,\n",
       "       -9.60132619e-01, -9.04594261e-01,  2.49142012e+00, -6.25231541e-01,\n",
       "        1.54412926e-01, -9.02176164e-01, -8.84913949e-01,  3.22919209e+00,\n",
       "        2.32113623e+00,  1.19709094e+00,  6.30684410e-01, -9.22113096e-01,\n",
       "        1.87354849e+00, -1.05485748e+00,  1.63685321e+00, -1.06062572e+00,\n",
       "       -1.07372070e+00,  3.09681192e+00, -3.50594675e-01, -1.07923568e+00,\n",
       "       -1.01675304e+00,  7.85233612e-01, -1.03086884e+00,  3.30693079e+00,\n",
       "        1.51944564e+00,  1.40779778e+00,  6.67783034e+00,  5.58347094e+00,\n",
       "       -6.30837147e-01,  1.20495658e-01, -1.05159365e+00, -2.93467121e-01,\n",
       "       -4.51542909e-01, -1.76891003e-01, -4.36326950e-02,  6.27501404e-01,\n",
       "       -1.05071166e+00,  5.10822896e-01, -1.06406310e+00, -1.05098762e+00,\n",
       "       -1.07276682e+00,  3.75715366e-01,  3.08765814e-01, -7.74042200e-01,\n",
       "        6.69838672e-02,  2.03012694e-01,  1.16873846e+00,  3.18716334e+00,\n",
       "       -4.44684708e-01, -8.24463660e-01, -2.41958892e-01, -1.04620606e+00,\n",
       "       -9.34791253e-01,  1.07424884e+00, -7.66813820e-01,  3.66517859e+00,\n",
       "       -1.04347016e+00,  6.98053986e+00, -9.92904152e-01,  8.03116199e+00,\n",
       "       -1.07980782e+00,  3.29474467e+00,  6.15786168e+00, -1.03264352e+00,\n",
       "       -3.98044257e-02, -9.43941203e-01, -1.03754290e+00,  4.87185782e+00,\n",
       "       -1.08134277e+00, -1.01398470e+00,  3.64941641e-02, -1.06501418e+00,\n",
       "        1.70262567e+00, -1.04928342e+00,  2.67499108e+00,  2.78167309e+00,\n",
       "        2.19079623e+00, -8.83736459e-01, -1.06014846e+00,  8.07660300e-01,\n",
       "       -1.08534882e+00, -1.01580088e+00,  1.98580203e-01, -8.13185756e-01,\n",
       "        3.00905538e-02,  7.05491673e-01,  2.77732391e+00,  8.91424458e-01,\n",
       "       -1.05334107e-01,  3.21434487e+00,  3.01715395e+00,  2.66172595e+00,\n",
       "        8.33487695e-01, -6.79049854e-01, -1.06282807e+00, -5.85082016e-01,\n",
       "        1.36413529e+00, -9.64509178e-01,  1.92784500e-01, -6.00966705e-01,\n",
       "       -9.63112481e-01, -1.05801042e+00,  2.63309238e-01,  1.64706564e-01,\n",
       "        1.71799349e+00,  9.77483361e-01, -4.30232416e-01, -9.53261669e-01,\n",
       "       -7.91875524e-01,  3.20267644e+00, -9.98757016e-01, -7.75238672e-02,\n",
       "       -1.08378821e+00, -9.94277973e-01, -7.67495863e-01, -1.07506929e+00,\n",
       "       -7.02769900e-01,  1.22779455e+00,  7.43922932e+00,  2.62395032e-03,\n",
       "        7.28716458e+00, -7.58642924e-01,  4.67925496e+00, -4.31028130e-01,\n",
       "       -4.59302975e-01,  1.12989089e+00,  2.38063332e+00, -1.04956288e+00,\n",
       "        2.25396172e+00, -1.07969286e+00, -1.02316063e+00, -9.93422064e-01,\n",
       "        2.78088635e+00, -8.30453983e-01, -1.02245551e+00, -1.02249448e+00,\n",
       "        7.58941169e-02,  3.30513285e+00, -2.04364698e-01, -1.28408200e-01,\n",
       "       -6.71803084e-01,  6.25174501e+00,  2.36424470e+00, -1.04428607e+00,\n",
       "       -1.00370900e+00, -1.00891351e+00, -6.50223985e-01, -1.07035335e+00,\n",
       "       -1.02862802e+00,  1.93200013e+00,  1.13531481e+00,  6.94391152e-01,\n",
       "       -5.17392161e-01, -3.07040405e-01, -4.62758738e-01, -3.69414256e-01,\n",
       "       -9.51085842e-01, -5.54607315e-01, -1.06614385e+00, -3.20418325e-01,\n",
       "        3.00749128e-01, -1.07950033e+00,  2.13787413e+00,  1.06854579e+00,\n",
       "       -2.98116363e-01, -1.05814738e+00, -8.13034970e-01,  8.82374404e-01,\n",
       "       -1.07127115e+00,  1.32112304e-01, -1.06266748e+00, -9.44174091e-01,\n",
       "       -1.08266870e+00,  8.97862856e-01, -1.02400234e+00,  4.57747204e+00,\n",
       "       -1.06525870e+00,  6.14120469e-01,  3.15068270e+00, -5.16843834e-01,\n",
       "       -1.02157803e+00,  2.04472081e-01,  7.25747486e-01,  1.38509389e+01,\n",
       "        4.33359239e+00, -1.00464575e+00, -9.50407503e-01, -1.05582011e+00,\n",
       "        1.48288145e+00,  2.22969473e+00,  7.16619767e+00, -1.04383976e+00,\n",
       "       -1.42434548e-01, -1.07173257e+00,  8.83464784e-01,  1.72323886e-01,\n",
       "        5.56530991e-01, -1.06392610e+00, -1.08063193e+00, -9.37920466e-01,\n",
       "        1.66203717e-01, -9.99143929e-01,  1.71592813e+00,  1.53189834e+00,\n",
       "        3.07703836e+00, -1.07518569e+00, -2.37049437e-01, -1.07606576e+00,\n",
       "       -8.99061376e-01, -6.63990083e-01, -9.93371622e-01, -1.02073578e-01,\n",
       "        2.37981071e+00,  1.01651526e+00, -8.63721390e-01, -5.65089468e-01,\n",
       "       -4.88911324e-01, -1.08165663e+00,  2.48320811e-01,  1.11406630e+00,\n",
       "       -1.05526829e+00, -9.51138517e-01, -1.01534486e+00, -1.01372977e-01,\n",
       "        3.07201372e+00, -7.13231317e-01, -3.41375595e-01, -1.00493937e+00,\n",
       "       -1.04361851e+00, -2.31452467e-01, -1.08387247e+00, -1.08467059e+00,\n",
       "        7.04016726e-01,  1.04482253e+00, -4.85217944e-01,  1.48082197e+00,\n",
       "        2.62293888e+00,  4.46210215e-02,  2.03088150e+00, -1.06820647e+00,\n",
       "       -9.50048342e-01,  1.75770316e+00, -4.29248169e-01, -1.03090480e+00,\n",
       "       -9.97003336e-01,  6.07706212e-01, -1.06624652e+00, -6.13913730e-01,\n",
       "       -1.07482594e+00, -1.05026173e+00, -9.93827422e-01,  2.72807335e+00,\n",
       "       -1.07976463e+00,  3.48370281e+00, -9.56455061e-01,  2.20926017e+00,\n",
       "       -6.37869102e-01, -4.35409919e-01, -8.64106943e-01, -1.07228151e+00,\n",
       "       -1.05774407e+00, -7.61439501e-01, -7.70411007e-01, -9.90767710e-01,\n",
       "        6.31321834e+00, -7.29661430e-01, -6.50812701e-01,  3.79605154e+00,\n",
       "       -9.15309283e-01, -9.65509768e-01, -7.91366378e-01,  2.37095978e+00,\n",
       "       -1.07908726e+00, -9.32056471e-01, -7.89827309e-01,  1.73081182e-01,\n",
       "       -4.51798561e-01,  1.93178619e+00,  3.55540805e+00, -1.01858134e+00,\n",
       "        3.03620692e+00, -1.06374969e+00,  1.48134299e+00, -1.07900430e+00,\n",
       "        8.83543425e-01,  4.40820972e+00, -9.25193096e-01,  3.30129352e+00,\n",
       "       -6.75397070e-01,  5.97056695e+00, -6.29005516e-01, -5.78041034e-01,\n",
       "        4.55164455e+00, -6.98173296e-01,  4.47365765e+00, -8.62892749e-01,\n",
       "       -1.07807461e+00, -6.54915330e-01, -6.51834845e-01, -1.06438907e+00,\n",
       "       -4.60004152e-01,  1.15182915e+00, -7.75296506e-01, -1.00261788e+00,\n",
       "        4.51135429e+00, -8.52548575e-01, -9.95586128e-01,  4.17720609e-01,\n",
       "       -1.06607167e+00, -1.05252653e+00, -1.07339615e+00,  2.08556445e+00,\n",
       "       -1.07865439e+00, -1.00145141e+00, -1.07339291e+00, -9.71603357e-01,\n",
       "       -8.22145963e-01,  7.11652623e-01, -1.06563117e+00, -1.03801581e+00,\n",
       "       -1.05454368e+00, -9.72782261e-01, -4.83647177e-01, -1.08445287e+00,\n",
       "       -6.94057266e-01, -1.07845272e+00, -9.68606594e-01, -6.76734800e-01,\n",
       "       -9.76307433e-01,  2.04884188e+00,  4.57557428e+00, -4.84358722e-01,\n",
       "        1.98381777e+00, -1.07479671e+00, -1.05216078e+00, -5.62391522e-01,\n",
       "       -1.08297156e+00, -4.51553649e-01,  8.46758887e-01, -1.07079840e+00,\n",
       "       -1.05333855e+00,  1.03701338e+00, -5.00914752e-01, -6.88899698e-01,\n",
       "       -1.07024063e+00, -1.08096770e+00,  3.28723183e-03,  7.90961551e+00,\n",
       "        7.10749765e+00,  2.56366075e+00, -4.20557648e-01, -1.03775714e+00,\n",
       "       -1.06861125e+00, -1.06163000e+00, -9.63026786e-01, -7.26789208e-01,\n",
       "        1.62237766e-01, -1.05843365e+00,  8.75753857e-01,  6.53295481e-01,\n",
       "       -8.67675354e-01, -6.24133716e-01,  1.15415200e+00, -7.18554394e-01,\n",
       "        1.49081586e+00,  2.29010174e+00, -1.06749755e+00, -1.07095154e+00,\n",
       "        3.15297561e+00, -2.89578470e-01, -1.02993228e+00,  2.50309214e+00,\n",
       "        4.09472672e-01,  1.17029897e+00, -7.93470116e-01, -7.88199715e-01,\n",
       "       -7.92344874e-01,  6.10051270e-01, -6.85303405e-01, -7.77094411e-01,\n",
       "       -1.04629481e+00, -6.63358853e-01, -9.39393347e-01,  7.69150449e-01,\n",
       "       -3.41652447e-01, -9.58200663e-01, -5.71783016e-01,  1.50894784e+00,\n",
       "        2.88656994e+00, -7.95735526e-02])"
      ]
     },
     "execution_count": 54,
     "metadata": {},
     "output_type": "execute_result"
    }
   ],
   "source": [
    "y_score.ravel()"
   ]
  },
  {
   "cell_type": "code",
   "execution_count": 75,
   "metadata": {},
   "outputs": [
    {
     "name": "stderr",
     "output_type": "stream",
     "text": [
      "/anaconda3/lib/python3.7/site-packages/sklearn/multiclass.py:76: UserWarning: Label not 2 is present in all training examples.\n",
      "  str(classes[c]))\n",
      "/anaconda3/lib/python3.7/site-packages/sklearn/metrics/ranking.py:651: UndefinedMetricWarning: No positive samples in y_true, true positive value should be meaningless\n",
      "  UndefinedMetricWarning)\n"
     ]
    },
    {
     "data": {
      "image/png": "[encoded data removed]",
      "text/plain": [
       "<Figure size 432x288 with 1 Axes>"
      ]
     },
     "metadata": {
      "needs_background": "light"
     },
     "output_type": "display_data"
    }
   ],
   "source": [
    "# # Add noisy features to make the problem harder\n",
    "# n_samples, n_features = X.shape\n",
    "# X = np.c_[X, random_state.randn(n_samples, 200 * n_features)]\n",
    "\n",
    "##\n",
    "# Using X1 ABTN in this cell for calculating\n",
    "# ROC area\n",
    "#\n",
    "\n",
    "# shuffle and split training and test sets\n",
    "X_train, X_test, y_train, y_test = train_test_split(X1, y, test_size=.5, random_state=0)\n",
    "\n",
    "\n",
    "random_state = np.random.RandomState(0)\n",
    "# Learn to predict each class against the other\n",
    "classifier = OneVsRestClassifier(svm.SVC(kernel='linear', probability=True, random_state=random_state))\n",
    "y_score = classifier.fit(X_train, y_train).decision_function(X_test)\n",
    "\n",
    "# Compute ROC curve and ROC area for each class\n",
    "fpr = dict()\n",
    "tpr = dict()\n",
    "roc_auc = dict()\n",
    "for i in range(n_classes):\n",
    "    fpr[i], tpr[i], _ = roc_curve(y_test[:, i], y_score[:, i])\n",
    "    roc_auc[i] = auc(fpr[i], tpr[i])\n",
    "\n",
    "# Compute micro-average ROC curve and ROC area\n",
    "fpr[\"micro\"], tpr[\"micro\"], _ = roc_curve(y_test.ravel(), y_score.ravel())\n",
    "roc_auc[\"micro\"] = auc(fpr[\"micro\"], tpr[\"micro\"])\n",
    "\n",
    "plt.figure()\n",
    "lw = 2\n",
    "plt.plot(fpr[1], tpr[1], color='darkorange',\n",
    "         lw=lw, label='ROC curve (area = %0.2f)' % roc_auc[1])\n",
    "plt.plot([0, 1], [0, 1], color='navy', lw=lw, linestyle='--')\n",
    "plt.xlim([0.0, 1.0])\n",
    "plt.ylim([0.0, 1.05])\n",
    "plt.title('ABTN')\n",
    "plt.legend(loc=\"lower right\")\n",
    "plt.show()"
   ]
  },
  {
   "cell_type": "code",
   "execution_count": 76,
   "metadata": {},
   "outputs": [
    {
     "data": {
      "text/plain": [
       "{0: 0.7711344057152195,\n",
       " 1: 0.7711344057152196,\n",
       " 2: nan,\n",
       " 'micro': 0.7234532894583304}"
      ]
     },
     "execution_count": 76,
     "metadata": {},
     "output_type": "execute_result"
    }
   ],
   "source": [
    "roc_auc"
   ]
  },
  {
   "cell_type": "code",
   "execution_count": null,
   "metadata": {},
   "outputs": [],
   "source": []
  },
  {
   "cell_type": "code",
   "execution_count": null,
   "metadata": {},
   "outputs": [],
   "source": []
  },
  {
   "cell_type": "code",
   "execution_count": null,
   "metadata": {},
   "outputs": [],
   "source": []
  },
  {
   "cell_type": "code",
   "execution_count": 64,
   "metadata": {},
   "outputs": [],
   "source": [
    "y_tr = main_df[target_var]\n",
    "\n",
    "# Binarize the output\n",
    "y_tr = label_binarize(y_tr, classes=[0, 1, 2])\n",
    "n_classes_tr = y_tr.shape[1]"
   ]
  },
  {
   "cell_type": "code",
   "execution_count": null,
   "metadata": {},
   "outputs": [],
   "source": [
    "# shuffle and split training and test sets\n",
    "X_train, X_test, y_train, y_test = train_test_split(X1, y, test_size=.5, random_state=0)\n",
    "\n",
    "\n",
    "random_state = np.random.RandomState(0)\n",
    "# Learn to predict each class against the other\n",
    "classifier = OneVsRestClassifier(svm.SVC(kernel='linear', probability=True, random_state=random_state))\n",
    "y_score = classifier.fit(X_train, y_train).decision_function(X_test)\n",
    "\n",
    "# Compute ROC curve and ROC area for each class\n",
    "fpr = dict()\n",
    "tpr = dict()\n",
    "roc_auc = dict()\n",
    "for i in range(n_classes):\n",
    "    fpr[i], tpr[i], _ = roc_curve(y_test[:, i], y_score[:, i])\n",
    "    roc_auc[i] = auc(fpr[i], tpr[i])\n",
    "\n",
    "# Compute micro-average ROC curve and ROC area\n",
    "fpr[\"micro\"], tpr[\"micro\"], _ = roc_curve(y_test.ravel(), y_score.ravel())\n",
    "roc_auc[\"micro\"] = auc(fpr[\"micro\"], tpr[\"micro\"])\n",
    "\n",
    "plt.figure()\n",
    "lw = 2\n",
    "plt.plot(fpr[1], tpr[1], color='darkorange',\n",
    "         lw=lw, label='ROC curve (area = %0.2f)' % roc_auc[1])\n",
    "plt.plot([0, 1], [0, 1], color='navy', lw=lw, linestyle='--')\n",
    "plt.xlim([0.0, 1.0])\n",
    "plt.ylim([0.0, 1.05])\n",
    "plt.title('ABTN')\n",
    "plt.legend(loc=\"lower right\")\n",
    "plt.show()"
   ]
  },
  {
   "cell_type": "code",
   "execution_count": null,
   "metadata": {},
   "outputs": [],
   "source": []
  },
  {
   "cell_type": "code",
   "execution_count": null,
   "metadata": {},
   "outputs": [],
   "source": []
  },
  {
   "cell_type": "code",
   "execution_count": null,
   "metadata": {},
   "outputs": [],
   "source": []
  },
  {
   "cell_type": "code",
   "execution_count": 17,
   "metadata": {},
   "outputs": [
    {
     "name": "stderr",
     "output_type": "stream",
     "text": [
      "/anaconda3/lib/python3.7/site-packages/sklearn/multiclass.py:76: UserWarning: Label not 2 is present in all training examples.\n",
      "  str(classes[c]))\n",
      "/anaconda3/lib/python3.7/site-packages/sklearn/metrics/ranking.py:651: UndefinedMetricWarning: No positive samples in y_true, true positive value should be meaningless\n",
      "  UndefinedMetricWarning)\n"
     ]
    },
    {
     "data": {
      "image/png": "[encoded data removed]",
      "text/plain": [
       "<Figure size 432x288 with 1 Axes>"
      ]
     },
     "metadata": {
      "needs_background": "light"
     },
     "output_type": "display_data"
    }
   ],
   "source": [
    "##\n",
    "# Using X2 AWTN in this cell for calculating\n",
    "# ROC area\n",
    "#\n",
    "\n",
    "# shuffle and split training and test sets\n",
    "X_train, X_test, y_train, y_test = train_test_split(X2, y, test_size=.5, random_state=0)\n",
    "\n",
    "\n",
    "random_state = np.random.RandomState(0)\n",
    "# Learn to predict each class against the other\n",
    "classifier = OneVsRestClassifier(svm.SVC(kernel='linear', probability=True, random_state=random_state))\n",
    "y_score = classifier.fit(X_train, y_train).decision_function(X_test)\n",
    "\n",
    "# Compute ROC curve and ROC area for each class\n",
    "fpr = dict()\n",
    "tpr = dict()\n",
    "roc_auc = dict()\n",
    "for i in range(n_classes):\n",
    "    fpr[i], tpr[i], _ = roc_curve(y_test[:, i], y_score[:, i])\n",
    "    roc_auc[i] = auc(fpr[i], tpr[i])\n",
    "\n",
    "# Compute micro-average ROC curve and ROC area\n",
    "fpr[\"micro\"], tpr[\"micro\"], _ = roc_curve(y_test.ravel(), y_score.ravel())\n",
    "roc_auc[\"micro\"] = auc(fpr[\"micro\"], tpr[\"micro\"])\n",
    "\n",
    "plt.figure()\n",
    "lw = 2\n",
    "plt.plot(fpr[1], tpr[1], color='darkorange',\n",
    "         lw=lw, label='ROC curve (area = %0.2f)' % roc_auc[1])\n",
    "plt.plot([0, 1], [0, 1], color='navy', lw=lw, linestyle='--')\n",
    "plt.xlim([0.0, 1.0])\n",
    "plt.ylim([0.0, 1.05])\n",
    "plt.title('AWTN')\n",
    "plt.legend(loc=\"lower right\")\n",
    "plt.show()"
   ]
  },
  {
   "cell_type": "code",
   "execution_count": 18,
   "metadata": {},
   "outputs": [
    {
     "name": "stderr",
     "output_type": "stream",
     "text": [
      "/anaconda3/lib/python3.7/site-packages/sklearn/multiclass.py:76: UserWarning: Label not 2 is present in all training examples.\n",
      "  str(classes[c]))\n",
      "/anaconda3/lib/python3.7/site-packages/sklearn/metrics/ranking.py:651: UndefinedMetricWarning: No positive samples in y_true, true positive value should be meaningless\n",
      "  UndefinedMetricWarning)\n"
     ]
    },
    {
     "data": {
      "image/png": "[encoded data removed]",
      "text/plain": [
       "<Figure size 432x288 with 1 Axes>"
      ]
     },
     "metadata": {
      "needs_background": "light"
     },
     "output_type": "display_data"
    }
   ],
   "source": [
    "##\n",
    "# Using X3 ABW in this cell for calculating\n",
    "# ROC area\n",
    "#\n",
    "\n",
    "# shuffle and split training and test sets\n",
    "X_train, X_test, y_train, y_test = train_test_split(X3, y, test_size=.5, random_state=0)\n",
    "\n",
    "\n",
    "random_state = np.random.RandomState(0)\n",
    "# Learn to predict each class against the other\n",
    "classifier = OneVsRestClassifier(svm.SVC(kernel='linear', probability=True, random_state=random_state))\n",
    "y_score = classifier.fit(X_train, y_train).decision_function(X_test)\n",
    "\n",
    "# Compute ROC curve and ROC area for each class\n",
    "fpr = dict()\n",
    "tpr = dict()\n",
    "roc_auc = dict()\n",
    "for i in range(n_classes):\n",
    "    fpr[i], tpr[i], _ = roc_curve(y_test[:, i], y_score[:, i])\n",
    "    roc_auc[i] = auc(fpr[i], tpr[i])\n",
    "\n",
    "# Compute micro-average ROC curve and ROC area\n",
    "fpr[\"micro\"], tpr[\"micro\"], _ = roc_curve(y_test.ravel(), y_score.ravel())\n",
    "roc_auc[\"micro\"] = auc(fpr[\"micro\"], tpr[\"micro\"])\n",
    "\n",
    "plt.figure()\n",
    "lw = 2\n",
    "plt.plot(fpr[1], tpr[1], color='darkorange',\n",
    "         lw=lw, label='ROC curve (area = %0.2f)' % roc_auc[1])\n",
    "plt.plot([0, 1], [0, 1], color='navy', lw=lw, linestyle='--')\n",
    "plt.xlim([0.0, 1.0])\n",
    "plt.ylim([0.0, 1.05])\n",
    "plt.title('ABW')\n",
    "plt.legend(loc=\"lower right\")\n",
    "plt.show()"
   ]
  },
  {
   "cell_type": "code",
   "execution_count": 19,
   "metadata": {},
   "outputs": [
    {
     "name": "stderr",
     "output_type": "stream",
     "text": [
      "/anaconda3/lib/python3.7/site-packages/sklearn/multiclass.py:76: UserWarning: Label not 2 is present in all training examples.\n",
      "  str(classes[c]))\n",
      "/anaconda3/lib/python3.7/site-packages/sklearn/metrics/ranking.py:651: UndefinedMetricWarning: No positive samples in y_true, true positive value should be meaningless\n",
      "  UndefinedMetricWarning)\n"
     ]
    },
    {
     "data": {
      "image/png": "[encoded data removed]",
      "text/plain": [
       "<Figure size 432x288 with 1 Axes>"
      ]
     },
     "metadata": {
      "needs_background": "light"
     },
     "output_type": "display_data"
    }
   ],
   "source": [
    "##\n",
    "# Using X4 WII in this cell for calculating\n",
    "# ROC area\n",
    "#\n",
    "\n",
    "# shuffle and split training and test sets\n",
    "X_train, X_test, y_train, y_test = train_test_split(X4, y, test_size=.5, random_state=0)\n",
    "\n",
    "\n",
    "random_state = np.random.RandomState(0)\n",
    "# Learn to predict each class against the other\n",
    "classifier = OneVsRestClassifier(svm.SVC(kernel='linear', probability=True, random_state=random_state))\n",
    "y_score = classifier.fit(X_train, y_train).decision_function(X_test)\n",
    "\n",
    "# Compute ROC curve and ROC area for each class\n",
    "fpr = dict()\n",
    "tpr = dict()\n",
    "roc_auc = dict()\n",
    "for i in range(n_classes):\n",
    "    fpr[i], tpr[i], _ = roc_curve(y_test[:, i], y_score[:, i])\n",
    "    roc_auc[i] = auc(fpr[i], tpr[i])\n",
    "\n",
    "# Compute micro-average ROC curve and ROC area\n",
    "fpr[\"micro\"], tpr[\"micro\"], _ = roc_curve(y_test.ravel(), y_score.ravel())\n",
    "roc_auc[\"micro\"] = auc(fpr[\"micro\"], tpr[\"micro\"])\n",
    "\n",
    "plt.figure()\n",
    "lw = 2\n",
    "plt.plot(fpr[1], tpr[1], color='darkorange',\n",
    "         lw=lw, label='ROC curve (area = %0.2f)' % roc_auc[1])\n",
    "plt.plot([0, 1], [0, 1], color='navy', lw=lw, linestyle='--')\n",
    "plt.xlim([0.0, 1.0])\n",
    "plt.ylim([0.0, 1.05])\n",
    "plt.title('WII')\n",
    "plt.legend(loc=\"lower right\")\n",
    "plt.show()"
   ]
  },
  {
   "cell_type": "code",
   "execution_count": 20,
   "metadata": {},
   "outputs": [
    {
     "name": "stderr",
     "output_type": "stream",
     "text": [
      "/anaconda3/lib/python3.7/site-packages/sklearn/multiclass.py:76: UserWarning: Label not 2 is present in all training examples.\n",
      "  str(classes[c]))\n",
      "/anaconda3/lib/python3.7/site-packages/sklearn/metrics/ranking.py:651: UndefinedMetricWarning: No positive samples in y_true, true positive value should be meaningless\n",
      "  UndefinedMetricWarning)\n"
     ]
    },
    {
     "data": {
      "image/png": "[encoded data removed]",
      "text/plain": [
       "<Figure size 432x288 with 1 Axes>"
      ]
     },
     "metadata": {
      "needs_background": "light"
     },
     "output_type": "display_data"
    }
   ],
   "source": [
    "##\n",
    "# Using X5 CAL in this cell for calculating\n",
    "# ROC area\n",
    "#\n",
    "\n",
    "# shuffle and split training and test sets\n",
    "X_train, X_test, y_train, y_test = train_test_split(X5, y, test_size=.5, random_state=0)\n",
    "\n",
    "\n",
    "random_state = np.random.RandomState(0)\n",
    "# Learn to predict each class against the other\n",
    "classifier = OneVsRestClassifier(svm.SVC(kernel='linear', probability=True, random_state=random_state))\n",
    "y_score = classifier.fit(X_train, y_train).decision_function(X_test)\n",
    "\n",
    "# Compute ROC curve and ROC area for each class\n",
    "fpr = dict()\n",
    "tpr = dict()\n",
    "roc_auc = dict()\n",
    "for i in range(n_classes):\n",
    "    fpr[i], tpr[i], _ = roc_curve(y_test[:, i], y_score[:, i])\n",
    "    roc_auc[i] = auc(fpr[i], tpr[i])\n",
    "\n",
    "# Compute micro-average ROC curve and ROC area\n",
    "fpr[\"micro\"], tpr[\"micro\"], _ = roc_curve(y_test.ravel(), y_score.ravel())\n",
    "roc_auc[\"micro\"] = auc(fpr[\"micro\"], tpr[\"micro\"])\n",
    "\n",
    "plt.figure()\n",
    "lw = 2\n",
    "plt.plot(fpr[1], tpr[1], color='darkorange',\n",
    "         lw=lw, label='ROC curve (area = %0.2f)' % roc_auc[1])\n",
    "plt.plot([0, 1], [0, 1], color='navy', lw=lw, linestyle='--')\n",
    "plt.xlim([0.0, 1.0])\n",
    "plt.ylim([0.0, 1.05])\n",
    "plt.title('CAL')\n",
    "plt.legend(loc=\"lower right\")\n",
    "plt.show()"
   ]
  },
  {
   "cell_type": "code",
   "execution_count": null,
   "metadata": {},
   "outputs": [],
   "source": []
  },
  {
   "cell_type": "code",
   "execution_count": null,
   "metadata": {},
   "outputs": [],
   "source": []
  }
 ],
 "metadata": {
  "kernelspec": {
   "display_name": "Python 3",
   "language": "python",
   "name": "python3"
  },
  "language_info": {
   "codemirror_mode": {
    "name": "ipython",
    "version": 3
   },
   "file_extension": ".py",
   "mimetype": "text/x-python",
   "name": "python",
   "nbconvert_exporter": "python",
   "pygments_lexer": "ipython3",
   "version": "3.7.2"
  }
 },
 "nbformat": 4,
 "nbformat_minor": 2
}
